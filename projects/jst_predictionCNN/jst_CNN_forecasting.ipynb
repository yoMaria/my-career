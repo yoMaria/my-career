{
  "nbformat": 4,
  "nbformat_minor": 0,
  "metadata": {
    "colab": {
      "provenance": []
    },
    "kernelspec": {
      "name": "python3",
      "display_name": "Python 3"
    },
    "language_info": {
      "name": "python"
    }
  },
  "cells": [
    {
      "cell_type": "code",
      "source": [
        "pip install ucimlrepo"
      ],
      "metadata": {
        "colab": {
          "base_uri": "https://localhost:8080/"
        },
        "id": "jiTE7aXVql_o",
        "outputId": "f6f58372-5038-4259-b7d3-102cec8e4efa"
      },
      "execution_count": null,
      "outputs": [
        {
          "output_type": "stream",
          "name": "stdout",
          "text": [
            "Collecting ucimlrepo\n",
            "  Downloading ucimlrepo-0.0.6-py3-none-any.whl (8.0 kB)\n",
            "Installing collected packages: ucimlrepo\n",
            "Successfully installed ucimlrepo-0.0.6\n"
          ]
        }
      ]
    },
    {
      "cell_type": "code",
      "execution_count": null,
      "metadata": {
        "colab": {
          "base_uri": "https://localhost:8080/",
          "height": 73
        },
        "id": "25uLgNsfqks6",
        "outputId": "2b632c32-d339-4847-8cda-69f6c803e0b1"
      },
      "outputs": [
        {
          "output_type": "display_data",
          "data": {
            "text/plain": [
              "<IPython.core.display.HTML object>"
            ],
            "text/html": [
              "\n",
              "     <input type=\"file\" id=\"files-ef161de6-5fb6-4b14-a53f-77776ee9a4de\" name=\"files[]\" multiple disabled\n",
              "        style=\"border:none\" />\n",
              "     <output id=\"result-ef161de6-5fb6-4b14-a53f-77776ee9a4de\">\n",
              "      Upload widget is only available when the cell has been executed in the\n",
              "      current browser session. Please rerun this cell to enable.\n",
              "      </output>\n",
              "      <script>// Copyright 2017 Google LLC\n",
              "//\n",
              "// Licensed under the Apache License, Version 2.0 (the \"License\");\n",
              "// you may not use this file except in compliance with the License.\n",
              "// You may obtain a copy of the License at\n",
              "//\n",
              "//      http://www.apache.org/licenses/LICENSE-2.0\n",
              "//\n",
              "// Unless required by applicable law or agreed to in writing, software\n",
              "// distributed under the License is distributed on an \"AS IS\" BASIS,\n",
              "// WITHOUT WARRANTIES OR CONDITIONS OF ANY KIND, either express or implied.\n",
              "// See the License for the specific language governing permissions and\n",
              "// limitations under the License.\n",
              "\n",
              "/**\n",
              " * @fileoverview Helpers for google.colab Python module.\n",
              " */\n",
              "(function(scope) {\n",
              "function span(text, styleAttributes = {}) {\n",
              "  const element = document.createElement('span');\n",
              "  element.textContent = text;\n",
              "  for (const key of Object.keys(styleAttributes)) {\n",
              "    element.style[key] = styleAttributes[key];\n",
              "  }\n",
              "  return element;\n",
              "}\n",
              "\n",
              "// Max number of bytes which will be uploaded at a time.\n",
              "const MAX_PAYLOAD_SIZE = 100 * 1024;\n",
              "\n",
              "function _uploadFiles(inputId, outputId) {\n",
              "  const steps = uploadFilesStep(inputId, outputId);\n",
              "  const outputElement = document.getElementById(outputId);\n",
              "  // Cache steps on the outputElement to make it available for the next call\n",
              "  // to uploadFilesContinue from Python.\n",
              "  outputElement.steps = steps;\n",
              "\n",
              "  return _uploadFilesContinue(outputId);\n",
              "}\n",
              "\n",
              "// This is roughly an async generator (not supported in the browser yet),\n",
              "// where there are multiple asynchronous steps and the Python side is going\n",
              "// to poll for completion of each step.\n",
              "// This uses a Promise to block the python side on completion of each step,\n",
              "// then passes the result of the previous step as the input to the next step.\n",
              "function _uploadFilesContinue(outputId) {\n",
              "  const outputElement = document.getElementById(outputId);\n",
              "  const steps = outputElement.steps;\n",
              "\n",
              "  const next = steps.next(outputElement.lastPromiseValue);\n",
              "  return Promise.resolve(next.value.promise).then((value) => {\n",
              "    // Cache the last promise value to make it available to the next\n",
              "    // step of the generator.\n",
              "    outputElement.lastPromiseValue = value;\n",
              "    return next.value.response;\n",
              "  });\n",
              "}\n",
              "\n",
              "/**\n",
              " * Generator function which is called between each async step of the upload\n",
              " * process.\n",
              " * @param {string} inputId Element ID of the input file picker element.\n",
              " * @param {string} outputId Element ID of the output display.\n",
              " * @return {!Iterable<!Object>} Iterable of next steps.\n",
              " */\n",
              "function* uploadFilesStep(inputId, outputId) {\n",
              "  const inputElement = document.getElementById(inputId);\n",
              "  inputElement.disabled = false;\n",
              "\n",
              "  const outputElement = document.getElementById(outputId);\n",
              "  outputElement.innerHTML = '';\n",
              "\n",
              "  const pickedPromise = new Promise((resolve) => {\n",
              "    inputElement.addEventListener('change', (e) => {\n",
              "      resolve(e.target.files);\n",
              "    });\n",
              "  });\n",
              "\n",
              "  const cancel = document.createElement('button');\n",
              "  inputElement.parentElement.appendChild(cancel);\n",
              "  cancel.textContent = 'Cancel upload';\n",
              "  const cancelPromise = new Promise((resolve) => {\n",
              "    cancel.onclick = () => {\n",
              "      resolve(null);\n",
              "    };\n",
              "  });\n",
              "\n",
              "  // Wait for the user to pick the files.\n",
              "  const files = yield {\n",
              "    promise: Promise.race([pickedPromise, cancelPromise]),\n",
              "    response: {\n",
              "      action: 'starting',\n",
              "    }\n",
              "  };\n",
              "\n",
              "  cancel.remove();\n",
              "\n",
              "  // Disable the input element since further picks are not allowed.\n",
              "  inputElement.disabled = true;\n",
              "\n",
              "  if (!files) {\n",
              "    return {\n",
              "      response: {\n",
              "        action: 'complete',\n",
              "      }\n",
              "    };\n",
              "  }\n",
              "\n",
              "  for (const file of files) {\n",
              "    const li = document.createElement('li');\n",
              "    li.append(span(file.name, {fontWeight: 'bold'}));\n",
              "    li.append(span(\n",
              "        `(${file.type || 'n/a'}) - ${file.size} bytes, ` +\n",
              "        `last modified: ${\n",
              "            file.lastModifiedDate ? file.lastModifiedDate.toLocaleDateString() :\n",
              "                                    'n/a'} - `));\n",
              "    const percent = span('0% done');\n",
              "    li.appendChild(percent);\n",
              "\n",
              "    outputElement.appendChild(li);\n",
              "\n",
              "    const fileDataPromise = new Promise((resolve) => {\n",
              "      const reader = new FileReader();\n",
              "      reader.onload = (e) => {\n",
              "        resolve(e.target.result);\n",
              "      };\n",
              "      reader.readAsArrayBuffer(file);\n",
              "    });\n",
              "    // Wait for the data to be ready.\n",
              "    let fileData = yield {\n",
              "      promise: fileDataPromise,\n",
              "      response: {\n",
              "        action: 'continue',\n",
              "      }\n",
              "    };\n",
              "\n",
              "    // Use a chunked sending to avoid message size limits. See b/62115660.\n",
              "    let position = 0;\n",
              "    do {\n",
              "      const length = Math.min(fileData.byteLength - position, MAX_PAYLOAD_SIZE);\n",
              "      const chunk = new Uint8Array(fileData, position, length);\n",
              "      position += length;\n",
              "\n",
              "      const base64 = btoa(String.fromCharCode.apply(null, chunk));\n",
              "      yield {\n",
              "        response: {\n",
              "          action: 'append',\n",
              "          file: file.name,\n",
              "          data: base64,\n",
              "        },\n",
              "      };\n",
              "\n",
              "      let percentDone = fileData.byteLength === 0 ?\n",
              "          100 :\n",
              "          Math.round((position / fileData.byteLength) * 100);\n",
              "      percent.textContent = `${percentDone}% done`;\n",
              "\n",
              "    } while (position < fileData.byteLength);\n",
              "  }\n",
              "\n",
              "  // All done.\n",
              "  yield {\n",
              "    response: {\n",
              "      action: 'complete',\n",
              "    }\n",
              "  };\n",
              "}\n",
              "\n",
              "scope.google = scope.google || {};\n",
              "scope.google.colab = scope.google.colab || {};\n",
              "scope.google.colab._files = {\n",
              "  _uploadFiles,\n",
              "  _uploadFilesContinue,\n",
              "};\n",
              "})(self);\n",
              "</script> "
            ]
          },
          "metadata": {}
        },
        {
          "output_type": "stream",
          "name": "stdout",
          "text": [
            "Saving household_power_consumption.txt to household_power_consumption (1).txt\n"
          ]
        }
      ],
      "source": [
        "from google.colab import files\n",
        "\n",
        "# Upload file CSV\n",
        "uploaded = files.upload()"
      ]
    },
    {
      "cell_type": "code",
      "source": [],
      "metadata": {
        "id": "UhX5S8tptYBw"
      },
      "execution_count": null,
      "outputs": []
    },
    {
      "cell_type": "markdown",
      "source": [
        "# Muat dan Siapkan Data"
      ],
      "metadata": {
        "id": "5Z9A0RdGzIhK"
      }
    },
    {
      "cell_type": "code",
      "source": [
        "import pandas as pd\n",
        "# load all data\n",
        "dataset = pd.read_csv('household_power_consumption.txt', sep=';', header=0, low_memory=False, infer_datetime_format=True, parse_dates={'datetime':[0,1]}, index_col=['datetime'])"
      ],
      "metadata": {
        "colab": {
          "base_uri": "https://localhost:8080/"
        },
        "id": "t1nik12Brxii",
        "outputId": "7d1c178e-a7ea-456c-9df5-22025dd2d67f"
      },
      "execution_count": null,
      "outputs": [
        {
          "output_type": "stream",
          "name": "stderr",
          "text": [
            "<ipython-input-2-dbed27ea4be2>:3: FutureWarning: The argument 'infer_datetime_format' is deprecated and will be removed in a future version. A strict version of it is now the default, see https://pandas.pydata.org/pdeps/0004-consistent-to-datetime-parsing.html. You can safely remove this argument.\n",
            "  dataset = pd.read_csv('household_power_consumption.txt', sep=';', header=0, low_memory=False, infer_datetime_format=True, parse_dates={'datetime':[0,1]}, index_col=['datetime'])\n",
            "<ipython-input-2-dbed27ea4be2>:3: UserWarning: Parsing dates in %d/%m/%Y %H:%M:%S format when dayfirst=False (the default) was specified. Pass `dayfirst=True` or specify a format to silence this warning.\n",
            "  dataset = pd.read_csv('household_power_consumption.txt', sep=';', header=0, low_memory=False, infer_datetime_format=True, parse_dates={'datetime':[0,1]}, index_col=['datetime'])\n"
          ]
        }
      ]
    },
    {
      "cell_type": "code",
      "source": [
        "import numpy as np\n",
        "\n",
        "# Mark all missing values\n",
        "dataset.replace('?', np.nan, inplace=True)\n",
        "\n",
        "# Make dataset numeric\n",
        "dataset = dataset.astype('float32')\n"
      ],
      "metadata": {
        "id": "52wVwYaLzZa8"
      },
      "execution_count": null,
      "outputs": []
    },
    {
      "cell_type": "code",
      "source": [
        "import numpy as np\n",
        "\n",
        "def fill_missing(values):\n",
        "    for col in range(values.shape[1]):\n",
        "        for row in range(values.shape[0]):\n",
        "            if np.isnan(values[row, col]):\n",
        "                # Your logic to fill missing values goes here\n",
        "                pass  # Placeholder for your logic\n",
        "# Fungsi untuk menampilkan array\n",
        "def display_array(arr):\n",
        "    for row in arr:\n",
        "        print(row)\n",
        "\n",
        "# Example usage\n",
        "fill_missing(dataset.values)"
      ],
      "metadata": {
        "id": "hjPuRQXu4dAM"
      },
      "execution_count": null,
      "outputs": []
    },
    {
      "cell_type": "code",
      "source": [
        "# add a column for for the remainder of sub metering\n",
        "values = dataset.values\n",
        "dataset['sub_metering_4'] = (values[:,0] * 1000 / 60) - (values[:,4] + values[:,5] + values[:,6])"
      ],
      "metadata": {
        "id": "42fdaXWUdTGq"
      },
      "execution_count": null,
      "outputs": []
    },
    {
      "cell_type": "code",
      "source": [
        "# Menampilkan hasil\n",
        "print(\"Dataset setelah menambahkan kolom 'sub_metering_4':\")\n",
        "print(dataset)"
      ],
      "metadata": {
        "colab": {
          "base_uri": "https://localhost:8080/"
        },
        "id": "DqeGDmCo1Wa1",
        "outputId": "ee95d03b-b5f7-440b-ac95-2c490579931f"
      },
      "execution_count": null,
      "outputs": [
        {
          "output_type": "stream",
          "name": "stdout",
          "text": [
            "Dataset setelah menambahkan kolom 'sub_metering_4':\n",
            "                     Global_active_power  Global_reactive_power     Voltage  \\\n",
            "datetime                                                                      \n",
            "2006-12-16 17:24:00                4.216                  0.418  234.839996   \n",
            "2006-12-16 17:25:00                5.360                  0.436  233.630005   \n",
            "2006-12-16 17:26:00                5.374                  0.498  233.289993   \n",
            "2006-12-16 17:27:00                5.388                  0.502  233.740005   \n",
            "2006-12-16 17:28:00                3.666                  0.528  235.679993   \n",
            "...                                  ...                    ...         ...   \n",
            "2010-11-26 20:58:00                0.946                  0.000  240.429993   \n",
            "2010-11-26 20:59:00                0.944                  0.000  240.000000   \n",
            "2010-11-26 21:00:00                0.938                  0.000  239.820007   \n",
            "2010-11-26 21:01:00                0.934                  0.000  239.699997   \n",
            "2010-11-26 21:02:00                0.932                  0.000  239.550003   \n",
            "\n",
            "                     Global_intensity  Sub_metering_1  Sub_metering_2  \\\n",
            "datetime                                                                \n",
            "2006-12-16 17:24:00              18.4             0.0             1.0   \n",
            "2006-12-16 17:25:00              23.0             0.0             1.0   \n",
            "2006-12-16 17:26:00              23.0             0.0             2.0   \n",
            "2006-12-16 17:27:00              23.0             0.0             1.0   \n",
            "2006-12-16 17:28:00              15.8             0.0             1.0   \n",
            "...                               ...             ...             ...   \n",
            "2010-11-26 20:58:00               4.0             0.0             0.0   \n",
            "2010-11-26 20:59:00               4.0             0.0             0.0   \n",
            "2010-11-26 21:00:00               3.8             0.0             0.0   \n",
            "2010-11-26 21:01:00               3.8             0.0             0.0   \n",
            "2010-11-26 21:02:00               3.8             0.0             0.0   \n",
            "\n",
            "                     Sub_metering_3  sub_metering_4  \n",
            "datetime                                             \n",
            "2006-12-16 17:24:00            17.0       52.266670  \n",
            "2006-12-16 17:25:00            16.0       72.333336  \n",
            "2006-12-16 17:26:00            17.0       70.566666  \n",
            "2006-12-16 17:27:00            17.0       71.800003  \n",
            "2006-12-16 17:28:00            17.0       43.099998  \n",
            "...                             ...             ...  \n",
            "2010-11-26 20:58:00             0.0       15.766666  \n",
            "2010-11-26 20:59:00             0.0       15.733334  \n",
            "2010-11-26 21:00:00             0.0       15.633333  \n",
            "2010-11-26 21:01:00             0.0       15.566667  \n",
            "2010-11-26 21:02:00             0.0       15.533334  \n",
            "\n",
            "[2075259 rows x 8 columns]\n"
          ]
        }
      ]
    },
    {
      "cell_type": "code",
      "source": [
        "# save updated dataset\n",
        "dataset.to_csv('household_power_consumption.csv')"
      ],
      "metadata": {
        "id": "a1jkKCSReReo"
      },
      "execution_count": null,
      "outputs": []
    },
    {
      "cell_type": "code",
      "source": [
        "# load and clean-up data\n",
        "from numpy import nan\n",
        "from numpy import isnan\n",
        "from pandas import read_csv\n",
        "from pandas import to_numeric\n",
        "\n",
        "# fill missing values with a value at the same time one day ago\n",
        "def fill_missing(values):\n",
        "\tone_day = 60 * 24\n",
        "\tfor row in range(values.shape[0]):\n",
        "\t\tfor col in range(values.shape[1]):\n",
        "\t\t\tif isnan(values[row, col]):\n",
        "\t\t\t\tvalues[row, col] = values[row - one_day, col]\n",
        "\n",
        "# load all data\n",
        "dataset = read_csv('household_power_consumption.txt', sep=';', header=0, low_memory=False, infer_datetime_format=True, parse_dates={'datetime':[0,1]}, index_col=['datetime'])\n",
        "# mark all missing values\n",
        "dataset.replace('?', nan, inplace=True)\n",
        "# make dataset numeric\n",
        "dataset = dataset.astype('float32')\n",
        "# fill missing\n",
        "fill_missing(dataset.values)\n",
        "# add a column for for the remainder of sub metering\n",
        "values = dataset.values\n",
        "dataset['sub_metering_4'] = (values[:,0] * 1000 / 60) - (values[:,4] + values[:,5] + values[:,6])\n",
        "# save updated dataset\n",
        "dataset.to_csv('household_power_consumption.csv')"
      ],
      "metadata": {
        "colab": {
          "base_uri": "https://localhost:8080/"
        },
        "id": "H1w61BDWGSzi",
        "outputId": "fba0fef4-8341-4a26-ad4e-8290d382c845"
      },
      "execution_count": null,
      "outputs": [
        {
          "output_type": "stream",
          "name": "stderr",
          "text": [
            "<ipython-input-9-9897c1a5ea5b>:16: FutureWarning: The argument 'infer_datetime_format' is deprecated and will be removed in a future version. A strict version of it is now the default, see https://pandas.pydata.org/pdeps/0004-consistent-to-datetime-parsing.html. You can safely remove this argument.\n",
            "  dataset = read_csv('household_power_consumption.txt', sep=';', header=0, low_memory=False, infer_datetime_format=True, parse_dates={'datetime':[0,1]}, index_col=['datetime'])\n",
            "<ipython-input-9-9897c1a5ea5b>:16: UserWarning: Parsing dates in %d/%m/%Y %H:%M:%S format when dayfirst=False (the default) was specified. Pass `dayfirst=True` or specify a format to silence this warning.\n",
            "  dataset = read_csv('household_power_consumption.txt', sep=';', header=0, low_memory=False, infer_datetime_format=True, parse_dates={'datetime':[0,1]}, index_col=['datetime'])\n"
          ]
        }
      ]
    },
    {
      "cell_type": "markdown",
      "source": [
        "# Model Evaluation"
      ],
      "metadata": {
        "id": "UThCw0M-Gu_X"
      }
    },
    {
      "cell_type": "code",
      "source": [
        "# resample minute data to total for each day\n",
        "from pandas import read_csv\n",
        "# load the new file\n",
        "dataset = read_csv('household_power_consumption.csv', header=0, infer_datetime_format=True, parse_dates=['datetime'], index_col=['datetime'])\n",
        "# resample data to daily\n",
        "daily_groups = dataset.resample('D')\n",
        "daily_data = daily_groups.sum()\n",
        "# summarize\n",
        "print(daily_data.shape)\n",
        "print(daily_data.head())\n",
        "# save\n",
        "daily_data.to_csv('household_power_consumption_days.csv')"
      ],
      "metadata": {
        "colab": {
          "base_uri": "https://localhost:8080/"
        },
        "id": "rwuVdJiQGYcK",
        "outputId": "e9b04e17-b832-4d0c-dc73-4f1277c9cbe5"
      },
      "execution_count": null,
      "outputs": [
        {
          "output_type": "stream",
          "name": "stderr",
          "text": [
            "<ipython-input-10-ea7947fdde4c>:4: FutureWarning: The argument 'infer_datetime_format' is deprecated and will be removed in a future version. A strict version of it is now the default, see https://pandas.pydata.org/pdeps/0004-consistent-to-datetime-parsing.html. You can safely remove this argument.\n",
            "  dataset = read_csv('household_power_consumption.csv', header=0, infer_datetime_format=True, parse_dates=['datetime'], index_col=['datetime'])\n"
          ]
        },
        {
          "output_type": "stream",
          "name": "stdout",
          "text": [
            "(1442, 8)\n",
            "            Global_active_power  Global_reactive_power    Voltage  \\\n",
            "datetime                                                            \n",
            "2006-12-16             1209.176                 34.922   93552.53   \n",
            "2006-12-17             3390.460                226.006  345725.32   \n",
            "2006-12-18             2203.826                161.792  347373.64   \n",
            "2006-12-19             1666.194                150.942  348479.01   \n",
            "2006-12-20             2225.748                160.998  348923.61   \n",
            "\n",
            "            Global_intensity  Sub_metering_1  Sub_metering_2  Sub_metering_3  \\\n",
            "datetime                                                                       \n",
            "2006-12-16            5180.8             0.0           546.0          4926.0   \n",
            "2006-12-17           14398.6          2033.0          4187.0         13341.0   \n",
            "2006-12-18            9247.2          1063.0          2621.0         14018.0   \n",
            "2006-12-19            7094.0           839.0          7602.0          6197.0   \n",
            "2006-12-20            9313.0             0.0          2648.0         14063.0   \n",
            "\n",
            "            sub_metering_4  \n",
            "datetime                    \n",
            "2006-12-16    14680.933319  \n",
            "2006-12-17    36946.666732  \n",
            "2006-12-18    19028.433281  \n",
            "2006-12-19    13131.900043  \n",
            "2006-12-20    20384.800011  \n"
          ]
        }
      ]
    },
    {
      "cell_type": "markdown",
      "source": [
        "#### Matriks evaluasi"
      ],
      "metadata": {
        "id": "H--6Ybp_G7a3"
      }
    },
    {
      "cell_type": "code",
      "source": [
        "# evaluate one or more weekly forecasts against expected values\n",
        "def evaluate_forecasts(actual, predicted):\n",
        "\tscores = list()\n",
        "\t# calculate an RMSE score for each day\n",
        "\tfor i in range(actual.shape[1]):\n",
        "\t\t# calculate mse\n",
        "\t\tmse = mean_squared_error(actual[:, i], predicted[:, i])\n",
        "\t\t# calculate rmse\n",
        "\t\trmse = sqrt(mse)\n",
        "\t\t# store\n",
        "\t\tscores.append(rmse)\n",
        "\t# calculate overall RMSE\n",
        "\ts = 0\n",
        "\tfor row in range(actual.shape[0]):\n",
        "\t\tfor col in range(actual.shape[1]):\n",
        "\t\t\ts += (actual[row, col] - predicted[row, col])**2\n",
        "\tscore = sqrt(s / (actual.shape[0] * actual.shape[1]))\n",
        "\treturn score, scores"
      ],
      "metadata": {
        "id": "SHL0JScrGye1"
      },
      "execution_count": null,
      "outputs": []
    },
    {
      "cell_type": "markdown",
      "source": [
        "##### split data"
      ],
      "metadata": {
        "id": "-jk-1kmNHdIK"
      }
    },
    {
      "cell_type": "code",
      "source": [
        "# split a univariate dataset into train/test sets\n",
        "def split_dataset(data):\n",
        "\t# split into standard weeks\n",
        "\ttrain, test = data[1:-328], data[-328:-6]\n",
        "\t# restructure into windows of weekly data\n",
        "\ttrain = array(split(train, len(train)/7))\n",
        "\ttest = array(split(test, len(test)/7))\n",
        "\treturn train, test"
      ],
      "metadata": {
        "id": "b4Lrph4qHAcc"
      },
      "execution_count": null,
      "outputs": []
    },
    {
      "cell_type": "code",
      "source": [
        "split_dataset(dataset)\n",
        "# dataset.train"
      ],
      "metadata": {
        "colab": {
          "base_uri": "https://localhost:8080/"
        },
        "id": "oFIZrz6sQcD5",
        "outputId": "92fc8148-2d3f-45bb-c339-408dd000f456"
      },
      "execution_count": null,
      "outputs": [
        {
          "output_type": "execute_result",
          "data": {
            "text/plain": [
              "(array([[[3.39046000e+03, 2.26006000e+02, 3.45725320e+05, ...,\n",
              "          4.18700000e+03, 1.33410000e+04, 3.69466667e+04],\n",
              "         [2.20382600e+03, 1.61792000e+02, 3.47373640e+05, ...,\n",
              "          2.62100000e+03, 1.40180000e+04, 1.90284333e+04],\n",
              "         [1.66619400e+03, 1.50942000e+02, 3.48479010e+05, ...,\n",
              "          7.60200000e+03, 6.19700000e+03, 1.31319000e+04],\n",
              "         ...,\n",
              "         [1.71662400e+03, 1.44166000e+02, 3.46616310e+05, ...,\n",
              "          2.62300000e+03, 1.04210000e+04, 1.38014000e+04],\n",
              "         [2.34133800e+03, 1.86906000e+02, 3.47305750e+05, ...,\n",
              "          3.50000000e+02, 1.11310000e+04, 2.43903000e+04],\n",
              "         [4.77338600e+03, 2.21470000e+02, 3.45795950e+05, ...,\n",
              "          4.25000000e+02, 1.47260000e+04, 6.17364334e+04]],\n",
              " \n",
              "        [[2.55001200e+03, 1.49900000e+02, 3.48029910e+05, ...,\n",
              "          5.08200000e+03, 6.89100000e+03, 2.88242000e+04],\n",
              "         [2.74312000e+03, 2.40280000e+02, 3.50495900e+05, ...,\n",
              "          1.96200000e+03, 5.79500000e+03, 3.13416666e+04],\n",
              "         [3.93411000e+03, 1.65102000e+02, 3.47940630e+05, ...,\n",
              "          2.53300000e+03, 1.49790000e+04, 4.69705001e+04],\n",
              "         ...,\n",
              "         [2.07263800e+03, 2.08876000e+02, 3.50306400e+05, ...,\n",
              "          4.41900000e+03, 9.17600000e+03, 1.87419666e+04],\n",
              "         [3.17439200e+03, 1.96394000e+02, 3.46854680e+05, ...,\n",
              "          5.16200000e+03, 1.13290000e+04, 3.51635333e+04],\n",
              "         [2.78930200e+03, 3.11928000e+02, 3.45897510e+05, ...,\n",
              "          7.89100000e+03, 1.24800000e+04, 2.30453667e+04]],\n",
              " \n",
              "        [[3.49419600e+03, 1.50852000e+02, 3.45451070e+05, ...,\n",
              "          3.47000000e+02, 6.50200000e+03, 5.13876000e+04],\n",
              "         [2.74900400e+03, 1.48166000e+02, 3.45785730e+05, ...,\n",
              "          3.52000000e+02, 5.88000000e+03, 3.95847333e+04],\n",
              "         [1.26923600e+03, 1.90342000e+02, 3.48399040e+05, ...,\n",
              "          3.48000000e+02, 6.56200000e+03, 1.42439333e+04],\n",
              "         ...,\n",
              "         [3.25941200e+03, 2.02302000e+02, 3.45240430e+05, ...,\n",
              "          7.59700000e+03, 1.08960000e+04, 3.47795333e+04],\n",
              "         [2.71336400e+03, 1.73154000e+02, 3.46313900e+05, ...,\n",
              "          3.79000000e+02, 7.60200000e+03, 3.57587334e+04],\n",
              "         [1.50837800e+03, 1.92188000e+02, 3.45129200e+05, ...,\n",
              "          4.02000000e+02, 5.67800000e+03, 1.77236333e+04]],\n",
              " \n",
              "        ...,\n",
              " \n",
              "        [[2.13881400e+03, 2.22190000e+02, 3.52076540e+05, ...,\n",
              "          4.17000000e+02, 1.31780000e+04, 1.80679000e+04],\n",
              "         [1.79486200e+03, 1.51982000e+02, 3.54454290e+05, ...,\n",
              "          2.28000000e+03, 1.07420000e+04, 1.58023667e+04],\n",
              "         [1.94011600e+03, 1.62344000e+02, 3.54302180e+05, ...,\n",
              "          3.92000000e+02, 1.40840000e+04, 1.67482667e+04],\n",
              "         ...,\n",
              "         [1.71718200e+03, 1.48970000e+02, 3.55527550e+05, ...,\n",
              "          3.08000000e+02, 1.43950000e+04, 1.39167000e+04],\n",
              "         [1.74470600e+03, 1.60418000e+02, 3.55096590e+05, ...,\n",
              "          3.04000000e+02, 1.14660000e+04, 1.61134333e+04],\n",
              "         [2.20433400e+03, 1.37608000e+02, 3.54145740e+05, ...,\n",
              "          2.66200000e+03, 1.36810000e+04, 1.92309000e+04]],\n",
              " \n",
              "        [[1.14416600e+03, 1.22100000e+02, 3.56306410e+05, ...,\n",
              "          3.13000000e+02, 7.79500000e+03, 9.72443338e+03],\n",
              "         [2.03496600e+03, 1.71948000e+02, 3.54829270e+05, ...,\n",
              "          2.82000000e+02, 1.14730000e+04, 1.88681000e+04],\n",
              "         [1.88802200e+03, 1.53362000e+02, 3.53863350e+05, ...,\n",
              "          2.85000000e+02, 1.58290000e+04, 1.53530334e+04],\n",
              "         ...,\n",
              "         [2.90589400e+03, 2.03660000e+02, 3.54002570e+05, ...,\n",
              "          5.57500000e+03, 1.51980000e+04, 2.24745666e+04],\n",
              "         [2.12764800e+03, 1.92384000e+02, 3.50767150e+05, ...,\n",
              "          3.89500000e+03, 1.42880000e+04, 1.39067999e+04],\n",
              "         [2.18361800e+03, 1.60884000e+02, 3.49150630e+05, ...,\n",
              "          4.29400000e+03, 1.60470000e+04, 1.48666333e+04]],\n",
              " \n",
              "        [[2.19545200e+03, 2.07164000e+02, 3.49439100e+05, ...,\n",
              "          3.18000000e+02, 1.24500000e+04, 1.96048666e+04],\n",
              "         [2.09409800e+03, 1.81668000e+02, 3.51039760e+05, ...,\n",
              "          2.06300000e+03, 1.49340000e+04, 1.57296333e+04],\n",
              "         [2.04796800e+03, 2.42050000e+02, 3.50183540e+05, ...,\n",
              "          3.46000000e+02, 1.02050000e+04, 2.23218000e+04],\n",
              "         ...,\n",
              "         [2.21189200e+03, 1.86612000e+02, 3.46980700e+05, ...,\n",
              "          3.87000000e+02, 1.94090000e+04, 1.70688667e+04],\n",
              "         [1.22425200e+03, 1.65336000e+02, 3.49294640e+05, ...,\n",
              "          3.27000000e+02, 3.55800000e+03, 1.42152000e+04],\n",
              "         [1.30883600e+03, 1.99416000e+02, 3.52090460e+05, ...,\n",
              "          2.98000000e+02, 6.42400000e+03, 1.42909334e+04]]]),\n",
              " array([[[2.08345400e+03, 1.91610000e+02, 3.50992120e+05, ...,\n",
              "          4.92000000e+03, 1.00740000e+04, 1.58882334e+04],\n",
              "         [1.60413200e+03, 1.56404000e+02, 3.53806730e+05, ...,\n",
              "          2.92000000e+02, 1.08120000e+04, 1.56315333e+04],\n",
              "         [2.21978000e+03, 1.48936000e+02, 3.52110290e+05, ...,\n",
              "          2.93000000e+02, 1.64680000e+04, 1.84503334e+04],\n",
              "         ...,\n",
              "         [1.76944200e+03, 1.15024000e+02, 3.52668330e+05, ...,\n",
              "          2.55000000e+02, 1.29360000e+04, 1.51017000e+04],\n",
              "         [1.79720800e+03, 1.59780000e+02, 3.51942930e+05, ...,\n",
              "          9.94000000e+02, 1.25310000e+04, 1.64284667e+04],\n",
              "         [2.33690000e+03, 1.99400000e+02, 3.51172420e+05, ...,\n",
              "          4.85500000e+03, 1.47340000e+04, 1.65783333e+04]],\n",
              " \n",
              "        [[2.50846600e+03, 2.27170000e+02, 3.51130490e+05, ...,\n",
              "          2.03200000e+03, 1.41080000e+04, 2.21037667e+04],\n",
              "         [1.51868400e+03, 1.56206000e+02, 3.54339520e+05, ...,\n",
              "          3.40000000e+02, 1.02790000e+04, 1.34414000e+04],\n",
              "         [1.28253800e+03, 1.32324000e+02, 2.18116340e+05, ...,\n",
              "          3.48900000e+03, 9.56900000e+03, 7.76563335e+03],\n",
              "         ...,\n",
              "         [6.18488000e+02, 7.02620000e+01, 7.25881400e+04, ...,\n",
              "          8.40000000e+01, 1.89300000e+03, 6.44113337e+03],\n",
              "         [2.19676000e+03, 2.18290000e+02, 3.50965100e+05, ...,\n",
              "          2.95200000e+03, 1.35460000e+04, 1.81576666e+04],\n",
              "         [2.15011200e+03, 2.42518000e+02, 3.49985140e+05, ...,\n",
              "          2.41500000e+03, 1.36520000e+04, 1.71632000e+04]],\n",
              " \n",
              "        [[1.90655600e+03, 1.88986000e+02, 3.49261930e+05, ...,\n",
              "          2.98000000e+02, 1.50440000e+04, 1.44419333e+04],\n",
              "         [1.88109800e+03, 1.91772000e+02, 3.50836370e+05, ...,\n",
              "          2.95000000e+02, 1.29810000e+04, 1.74586333e+04],\n",
              "         [2.43350800e+03, 1.61754000e+02, 3.49953280e+05, ...,\n",
              "          6.53000000e+02, 1.93110000e+04, 1.85504667e+04],\n",
              "         ...,\n",
              "         [2.13785600e+03, 1.85420000e+02, 3.49849800e+05, ...,\n",
              "          4.49000000e+02, 1.64510000e+04, 1.78369334e+04],\n",
              "         [1.79062600e+03, 1.56858000e+02, 3.48264250e+05, ...,\n",
              "          3.52000000e+02, 1.45120000e+04, 1.42807667e+04],\n",
              "         [2.60851000e+03, 2.60356000e+02, 3.46552020e+05, ...,\n",
              "          4.08600000e+03, 1.60210000e+04, 2.02141667e+04]],\n",
              " \n",
              "        ...,\n",
              " \n",
              "        [[1.47643000e+03, 2.08082000e+02, 3.53513200e+05, ...,\n",
              "          6.78000000e+02, 5.58900000e+03, 1.69101667e+04],\n",
              "         [1.38318000e+03, 1.87086000e+02, 3.54786620e+05, ...,\n",
              "          6.34000000e+02, 8.74600000e+03, 1.36730000e+04],\n",
              "         [1.19108200e+03, 1.86520000e+02, 3.53933160e+05, ...,\n",
              "          5.74000000e+02, 5.78400000e+03, 1.34933667e+04],\n",
              "         ...,\n",
              "         [2.55514600e+03, 2.52438000e+02, 3.50139210e+05, ...,\n",
              "          1.11930000e+04, 1.02860000e+04, 1.50777667e+04],\n",
              "         [1.73608800e+03, 1.80498000e+02, 3.51036050e+05, ...,\n",
              "          7.90000000e+02, 1.26100000e+04, 1.55348000e+04],\n",
              "         [1.80540800e+03, 1.93958000e+02, 3.43339520e+05, ...,\n",
              "          6.80000000e+02, 9.80300000e+03, 1.63521333e+04]],\n",
              " \n",
              "        [[1.67381600e+03, 1.74976000e+02, 3.43348540e+05, ...,\n",
              "          6.21000000e+02, 6.94300000e+03, 1.93069333e+04],\n",
              "         [1.82554000e+03, 1.45656000e+02, 3.42350010e+05, ...,\n",
              "          5.55000000e+02, 1.30380000e+04, 1.57456667e+04],\n",
              "         [2.02209800e+03, 1.54670000e+02, 3.42414850e+05, ...,\n",
              "          5.83000000e+02, 1.25000000e+04, 1.85216333e+04],\n",
              "         ...,\n",
              "         [1.77359200e+03, 1.52188000e+02, 3.43769340e+05, ...,\n",
              "          2.21600000e+03, 6.25900000e+03, 1.76608667e+04],\n",
              "         [1.83682200e+03, 1.51144000e+02, 3.43926570e+05, ...,\n",
              "          4.89000000e+02, 1.03080000e+04, 1.77627000e+04],\n",
              "         [2.02317400e+03, 1.62180000e+02, 3.44639150e+05, ...,\n",
              "          5.89000000e+02, 1.38530000e+04, 1.82265666e+04]],\n",
              " \n",
              "        [[2.03839200e+03, 2.03694000e+02, 3.44562910e+05, ...,\n",
              "          5.49000000e+02, 8.75800000e+03, 1.93222000e+04],\n",
              "         [1.74738200e+03, 1.26716000e+02, 3.44950910e+05, ...,\n",
              "          4.22200000e+03, 8.91800000e+03, 1.49080333e+04],\n",
              "         [1.50974800e+03, 1.33598000e+02, 3.47324560e+05, ...,\n",
              "          4.78000000e+02, 7.94900000e+03, 1.67354667e+04],\n",
              "         ...,\n",
              "         [1.65215200e+03, 2.06196000e+02, 3.47064120e+05, ...,\n",
              "          4.89000000e+02, 9.44900000e+03, 1.54228667e+04],\n",
              "         [1.57040000e+03, 1.22928000e+02, 3.45667330e+05, ...,\n",
              "          4.83000000e+02, 1.19140000e+04, 1.37763333e+04],\n",
              "         [2.19700600e+03, 1.53768000e+02, 3.46476000e+05, ...,\n",
              "          2.94700000e+03, 1.14330000e+04, 1.78697666e+04]]]))"
            ]
          },
          "metadata": {},
          "execution_count": 56
        }
      ]
    },
    {
      "cell_type": "code",
      "source": [
        "# split into standard weeks\n",
        "from numpy import split\n",
        "from numpy import array\n",
        "from pandas import read_csv\n",
        "\n",
        "# split a univariate dataset into train/test sets\n",
        "def split_dataset(data):\n",
        "\t# split into standard weeks\n",
        "\ttrain, test = data[1:-328], data[-328:-6]\n",
        "\t# restructure into windows of weekly data\n",
        "\ttrain = array(split(train, len(train)/7))\n",
        "\ttest = array(split(test, len(test)/7))\n",
        "\treturn train, test\n",
        "\n",
        "# load the new file\n",
        "dataset = read_csv('household_power_consumption_days.csv', header=0, infer_datetime_format=True, parse_dates=['datetime'], index_col=['datetime'])\n",
        "train, test = split_dataset(dataset.values)\n",
        "# validate train data\n",
        "print(train.shape)\n",
        "print(train[0, 0, 0], train[-1, -1, 0])\n",
        "# validate test\n",
        "print(test.shape)\n",
        "print(test[0, 0, 0], test[-1, -1, 0])"
      ],
      "metadata": {
        "colab": {
          "base_uri": "https://localhost:8080/"
        },
        "id": "w3Pt0b4RHf0c",
        "outputId": "8bb0da74-d0fe-4695-d365-88b6928e26ed"
      },
      "execution_count": null,
      "outputs": [
        {
          "output_type": "stream",
          "name": "stdout",
          "text": [
            "(159, 7, 8)\n",
            "3390.46 1308.836\n",
            "(46, 7, 8)\n",
            "2083.454 2197.006\n"
          ]
        },
        {
          "output_type": "stream",
          "name": "stderr",
          "text": [
            "<ipython-input-41-635aa005e3e3>:16: FutureWarning: The argument 'infer_datetime_format' is deprecated and will be removed in a future version. A strict version of it is now the default, see https://pandas.pydata.org/pdeps/0004-consistent-to-datetime-parsing.html. You can safely remove this argument.\n",
            "  dataset = read_csv('household_power_consumption_days.csv', header=0, infer_datetime_format=True, parse_dates=['datetime'], index_col=['datetime'])\n"
          ]
        }
      ]
    },
    {
      "cell_type": "code",
      "source": [
        "# evaluate a single model\n",
        "def evaluate_model(train, test, n_input):\n",
        "\t# fit model\n",
        "\tmodel = build_model(train, n_input)\n",
        "\t# history is a list of weekly data\n",
        "\thistory = [x for x in train]\n",
        "\t# walk-forward validation over each week\n",
        "\tpredictions = list()\n",
        "\tfor i in range(len(test)):\n",
        "\t\t# predict the week\n",
        "\t\tyhat_sequence = forecast(model, history, n_input)\n",
        "\t\t# store the predictions\n",
        "\t\tpredictions.append(yhat_sequence)\n",
        "\t\t# get real observation and add to history for predicting the next week\n",
        "\t\thistory.append(test[i, :])\n",
        "\t# evaluate predictions days for each week\n",
        "\tpredictions = array(predictions)\n",
        "\tscore, scores = evaluate_forecasts(test[:, :, 0], predictions)\n",
        "\treturn score, scores"
      ],
      "metadata": {
        "id": "4u3Csjn8Hixb"
      },
      "execution_count": null,
      "outputs": []
    },
    {
      "cell_type": "code",
      "source": [
        "# summarize scores\n",
        "def summarize_scores(name, score, scores):\n",
        "\ts_scores = ', '.join(['%.1f' % s for s in scores])\n",
        "\tprint('%s: [%.3f] %s' % (name, score, s_scores))"
      ],
      "metadata": {
        "id": "7pshRdJrHmJS"
      },
      "execution_count": null,
      "outputs": []
    },
    {
      "cell_type": "markdown",
      "source": [
        "# Peramalan Rangkaian Waktu Multi-Langkah Dengan CNN Univariat"
      ],
      "metadata": {
        "id": "rhA2uInaH0aH"
      }
    },
    {
      "cell_type": "code",
      "source": [
        "# Convert DataFrame to numpy array\n",
        "data_array = dataset.values\n",
        "\n",
        "# Reshape the numpy array\n",
        "data_reshaped = data_array.reshape((data_array.shape[0] * data_array.shape[1],))\n"
      ],
      "metadata": {
        "id": "4fgjcKoKHo-V"
      },
      "execution_count": null,
      "outputs": []
    },
    {
      "cell_type": "code",
      "source": [
        "# convert history into inputs and outputs\n",
        "def to_supervised(train, n_input, n_out=7):\n",
        "\t# flatten data\n",
        "\tdata_reshaped = train.reshape((train.shape[0]*train.shape[1], train.shape[2]))\n",
        "\tX, y = list(), list()\n",
        "\tin_start = 0\n",
        "\t# step over the entire history one time step at a time\n",
        "\tfor _ in range(len(data)):\n",
        "\t\t# define the end of the input sequence\n",
        "\t\tin_end = in_start + n_input\n",
        "\t\tout_end = in_end + n_out\n",
        "\t\t# ensure we have enough data for this instance\n",
        "\t\tif out_end <= len(data):\n",
        "\t\t\tx_input = data[in_start:in_end, 0]\n",
        "\t\t\tx_input = x_input.reshape((len(x_input), 1))\n",
        "\t\t\tX.append(x_input)\n",
        "\t\t\ty.append(data[in_end:out_end, 0])\n",
        "\t\t# move along one time step\n",
        "\t\tin_start += 1\n",
        "\treturn array(X), array(y)"
      ],
      "metadata": {
        "id": "ffO_rjf8H7RQ"
      },
      "execution_count": null,
      "outputs": []
    },
    {
      "cell_type": "code",
      "source": [
        "# train the model\n",
        "def build_model(train, n_input):\n",
        "\t# prepare data\n",
        "\ttrain_x, train_y = to_supervised(train, n_input)\n",
        "\t# define parameters\n",
        "\tverbose, epochs, batch_size = 0, 20, 4\n",
        "\tn_timesteps, n_features, n_outputs = train_x.shape[1], train_x.shape[2], train_y.shape[1]\n",
        "\t# define model\n",
        "\tmodel = Sequential()\n",
        "\tmodel.add(Conv1D(filters=16, kernel_size=3, activation='relu', input_shape=(n_timesteps,n_features)))\n",
        "\tmodel.add(MaxPooling1D(pool_size=2))\n",
        "\tmodel.add(Flatten())\n",
        "\tmodel.add(Dense(10, activation='relu'))\n",
        "\tmodel.add(Dense(n_outputs))\n",
        "\tmodel.compile(loss='mse', optimizer='adam')\n",
        "\t# fit network\n",
        "\tmodel.fit(train_x, train_y, epochs=epochs, batch_size=batch_size, verbose=verbose)\n",
        "\treturn model"
      ],
      "metadata": {
        "id": "UE6tInUwI5xS"
      },
      "execution_count": null,
      "outputs": []
    },
    {
      "cell_type": "code",
      "source": [
        "# Convert DataFrame to numpy array\n",
        "data_array = dataset.values\n",
        "\n",
        "# Reshape the numpy array\n",
        "data_reshaped = data_array.reshape((data_array.shape[0] * data_array.shape[1], 1))\n",
        "data_reshaped"
      ],
      "metadata": {
        "id": "QLu9-dJEI_sY",
        "colab": {
          "base_uri": "https://localhost:8080/"
        },
        "outputId": "d244f377-0829-40bb-9cbb-413ec0045c4e"
      },
      "execution_count": null,
      "outputs": [
        {
          "output_type": "execute_result",
          "data": {
            "text/plain": [
              "array([[1.20917600e+03],\n",
              "       [3.49220000e+01],\n",
              "       [9.35525300e+04],\n",
              "       ...,\n",
              "       [3.85000000e+02],\n",
              "       [9.98900000e+03],\n",
              "       [1.33477333e+04]])"
            ]
          },
          "metadata": {},
          "execution_count": 47
        }
      ]
    },
    {
      "cell_type": "code",
      "source": [
        "# retrieve last observations for input data\n",
        "# Parameter n_input dapat diatur sesuai kebutuhan Anda\n",
        "n_input = 7\n",
        "input_x = data_reshaped[n_input:, 0]\n",
        "input_x"
      ],
      "metadata": {
        "colab": {
          "base_uri": "https://localhost:8080/"
        },
        "id": "iGHSFQrZJDTt",
        "outputId": "bf5a677b-1133-4098-cfdd-070843306e6f"
      },
      "execution_count": null,
      "outputs": [
        {
          "output_type": "execute_result",
          "data": {
            "text/plain": [
              "array([14680.9333193,  3390.46     ,   226.006    , ...,   385.       ,\n",
              "        9989.       , 13347.7333357])"
            ]
          },
          "metadata": {},
          "execution_count": 48
        }
      ]
    },
    {
      "cell_type": "code",
      "source": [
        "\n",
        "# reshape into [1, n_input, 1]\n",
        "input_x = input_x.reshape((1, len(input_x), 1))\n"
      ],
      "metadata": {
        "id": "2BL2xexSJa_g"
      },
      "execution_count": null,
      "outputs": []
    },
    {
      "cell_type": "code",
      "source": [
        "input_x"
      ],
      "metadata": {
        "colab": {
          "base_uri": "https://localhost:8080/"
        },
        "id": "GOPU0g8L7X5F",
        "outputId": "9e1d0030-2ac9-406e-8463-0691c46efdd3"
      },
      "execution_count": null,
      "outputs": [
        {
          "output_type": "execute_result",
          "data": {
            "text/plain": [
              "array([[[14680.9333193],\n",
              "        [ 3390.46     ],\n",
              "        [  226.006    ],\n",
              "        ...,\n",
              "        [  385.       ],\n",
              "        [ 9989.       ],\n",
              "        [13347.7333357]]])"
            ]
          },
          "metadata": {},
          "execution_count": 50
        }
      ]
    },
    {
      "cell_type": "code",
      "source": [
        "# forecast the next week\n",
        "yhat = model.predict(input_x, verbose=0)\n",
        "# we only want the vector forecast\n",
        "yhat = yhat[0]"
      ],
      "metadata": {
        "id": "SYHaMDYO7Ziv"
      },
      "execution_count": null,
      "outputs": []
    },
    {
      "cell_type": "code",
      "source": [
        "# make a forecast\n",
        "def forecast(model, history, n_input):\n",
        "\t# flatten data\n",
        "\tdata = array(history)\n",
        "\tdata = data.reshape((data.shape[0]*data.shape[1], data.shape[2]))\n",
        "\t# retrieve last observations for input data\n",
        "\tinput_x = data[-n_input:, 0]\n",
        "\t# reshape into [1, n_input, 1]\n",
        "\tinput_x = input_x.reshape((1, len(input_x), 1))\n",
        "\t# forecast the next week\n",
        "\tyhat = model.predict(input_x, verbose=0)\n",
        "\t# we only want the vector forecast\n",
        "\tyhat = yhat[0]\n",
        "\treturn yhat"
      ],
      "metadata": {
        "id": "h1AqhpsK9UUQ"
      },
      "execution_count": null,
      "outputs": []
    },
    {
      "cell_type": "code",
      "source": [
        "from tensorflow.keras.layers import Conv1D, MaxPooling1D\n"
      ],
      "metadata": {
        "id": "0ZCnW5Ci9_An"
      },
      "execution_count": null,
      "outputs": []
    },
    {
      "cell_type": "code",
      "source": [
        "from tensorflow.keras.layers import Conv1D, MaxPooling1D"
      ],
      "metadata": {
        "id": "dzI4ynwJ-QBs"
      },
      "execution_count": null,
      "outputs": []
    },
    {
      "cell_type": "code",
      "source": [
        "# univariate multi-step cnn\n",
        "from math import sqrt\n",
        "from numpy import split\n",
        "from numpy import array\n",
        "from pandas import read_csv\n",
        "from sklearn.metrics import mean_squared_error\n",
        "from matplotlib import pyplot\n",
        "from keras.models import Sequential\n",
        "from keras.layers import Dense\n",
        "from keras.layers import Flatten\n",
        "# from keras.layers.convolutional import Conv1D\n",
        "# from keras.layers.convolutional import MaxPooling1D\n",
        "\n",
        "# split a univariate dataset into train/test sets\n",
        "def split_dataset(data):\n",
        "\t# split into standard weeks\n",
        "\ttrain, test = data[1:-328], data[-328:-6]\n",
        "\t# restructure into windows of weekly data\n",
        "\ttrain = array(split(train, len(train)/7))\n",
        "\ttest = array(split(test, len(test)/7))\n",
        "\treturn train, test\n",
        "\n",
        "# evaluate one or more weekly forecasts against expected values\n",
        "def evaluate_forecasts(actual, predicted):\n",
        "\tscores = list()\n",
        "\t# calculate an RMSE score for each day\n",
        "\tfor i in range(actual.shape[1]):\n",
        "\t\t# calculate mse\n",
        "\t\tmse = mean_squared_error(actual[:, i], predicted[:, i])\n",
        "\t\t# calculate rmse\n",
        "\t\trmse = sqrt(mse)\n",
        "\t\t# store\n",
        "\t\tscores.append(rmse)\n",
        "\t# calculate overall RMSE\n",
        "\ts = 0\n",
        "\tfor row in range(actual.shape[0]):\n",
        "\t\tfor col in range(actual.shape[1]):\n",
        "\t\t\ts += (actual[row, col] - predicted[row, col])**2\n",
        "\tscore = sqrt(s / (actual.shape[0] * actual.shape[1]))\n",
        "\treturn score, scores\n",
        "\n",
        "# summarize scores\n",
        "def summarize_scores(name, score, scores):\n",
        "\ts_scores = ', '.join(['%.1f' % s for s in scores])\n",
        "\tprint('%s: [%.3f] %s' % (name, score, s_scores))\n",
        "\n",
        "# convert history into inputs and outputs\n",
        "def to_supervised(train, n_input, n_out=7):\n",
        "\t# flatten data\n",
        "\tdata = train.reshape((train.shape[0]*train.shape[1], train.shape[2]))\n",
        "\tX, y = list(), list()\n",
        "\tin_start = 0\n",
        "\t# step over the entire history one time step at a time\n",
        "\tfor _ in range(len(data)):\n",
        "\t\t# define the end of the input sequence\n",
        "\t\tin_end = in_start + n_input\n",
        "\t\tout_end = in_end + n_out\n",
        "\t\t# ensure we have enough data for this instance\n",
        "\t\tif out_end <= len(data):\n",
        "\t\t\tx_input = data[in_start:in_end, 0]\n",
        "\t\t\tx_input = x_input.reshape((len(x_input), 1))\n",
        "\t\t\tX.append(x_input)\n",
        "\t\t\ty.append(data[in_end:out_end, 0])\n",
        "\t\t# move along one time step\n",
        "\t\tin_start += 1\n",
        "\treturn array(X), array(y)\n",
        "\n",
        "# train the model\n",
        "def build_model(train, n_input):\n",
        "\t# prepare data\n",
        "\ttrain_x, train_y = to_supervised(train, n_input)\n",
        "\t# define parameters\n",
        "\tverbose, epochs, batch_size = 0, 20, 4\n",
        "\tn_timesteps, n_features, n_outputs = train_x.shape[1], train_x.shape[2], train_y.shape[1]\n",
        "\t# define model\n",
        "\tmodel = Sequential()\n",
        "\tmodel.add(Conv1D(filters=16, kernel_size=3, activation='relu', input_shape=(n_timesteps,n_features)))\n",
        "\tmodel.add(MaxPooling1D(pool_size=2))\n",
        "\tmodel.add(Flatten())\n",
        "\tmodel.add(Dense(10, activation='relu'))\n",
        "\tmodel.add(Dense(n_outputs))\n",
        "\tmodel.compile(loss='mse', optimizer='adam')\n",
        "\t# fit network\n",
        "\tmodel.fit(train_x, train_y, epochs=epochs, batch_size=batch_size, verbose=verbose)\n",
        "\treturn model\n",
        "\n",
        "# make a forecast\n",
        "def forecast(model, history, n_input):\n",
        "\t# flatten data\n",
        "\tdata = array(history)\n",
        "\tdata = data.reshape((data.shape[0]*data.shape[1], data.shape[2]))\n",
        "\t# retrieve last observations for input data\n",
        "\tinput_x = data[-n_input:, 0]\n",
        "\t# reshape into [1, n_input, 1]\n",
        "\tinput_x = input_x.reshape((1, len(input_x), 1))\n",
        "\t# forecast the next week\n",
        "\tyhat = model.predict(input_x, verbose=0)\n",
        "\t# we only want the vector forecast\n",
        "\tyhat = yhat[0]\n",
        "\treturn yhat\n",
        "\n",
        "# evaluate a single model\n",
        "def evaluate_model(train, test, n_input):\n",
        "\t# fit model\n",
        "\tmodel = build_model(train, n_input)\n",
        "\t# history is a list of weekly data\n",
        "\thistory = [x for x in train]\n",
        "\t# walk-forward validation over each week\n",
        "\tpredictions = list()\n",
        "\tfor i in range(len(test)):\n",
        "\t\t# predict the week\n",
        "\t\tyhat_sequence = forecast(model, history, n_input)\n",
        "\t\t# store the predictions\n",
        "\t\tpredictions.append(yhat_sequence)\n",
        "\t\t# get real observation and add to history for predicting the next week\n",
        "\t\thistory.append(test[i, :])\n",
        "\t# evaluate predictions days for each week\n",
        "\tpredictions = array(predictions)\n",
        "\tscore, scores = evaluate_forecasts(test[:, :, 0], predictions)\n",
        "\treturn score, scores\n",
        "\n",
        "# load the new file\n",
        "dataset = read_csv('household_power_consumption_days.csv', header=0, infer_datetime_format=True, parse_dates=['datetime'], index_col=['datetime'])\n",
        "# split into train and test\n",
        "train, test = split_dataset(dataset.values)\n",
        "# evaluate model and get scores\n",
        "n_input = 7\n",
        "score, scores = evaluate_model(train, test, n_input)\n",
        "# summarize scores\n",
        "summarize_scores('cnn', score, scores)\n",
        "# plot scores\n",
        "days = ['sun', 'mon', 'tue', 'wed', 'thr', 'fri', 'sat']\n",
        "pyplot.plot(days, scores, marker='o', label='cnn')\n",
        "pyplot.show()"
      ],
      "metadata": {
        "colab": {
          "base_uri": "https://localhost:8080/",
          "height": 537
        },
        "id": "1n3YXPQ297sg",
        "outputId": "eb8779a1-f36d-441d-ca22-db730b86668d"
      },
      "execution_count": null,
      "outputs": [
        {
          "output_type": "stream",
          "name": "stderr",
          "text": [
            "<ipython-input-66-e3bc818835f3>:123: FutureWarning: The argument 'infer_datetime_format' is deprecated and will be removed in a future version. A strict version of it is now the default, see https://pandas.pydata.org/pdeps/0004-consistent-to-datetime-parsing.html. You can safely remove this argument.\n",
            "  dataset = read_csv('household_power_consumption_days.csv', header=0, infer_datetime_format=True, parse_dates=['datetime'], index_col=['datetime'])\n",
            "/usr/local/lib/python3.10/dist-packages/keras/src/layers/convolutional/base_conv.py:107: UserWarning: Do not pass an `input_shape`/`input_dim` argument to a layer. When using Sequential models, prefer using an `Input(shape)` object as the first layer in the model instead.\n",
            "  super().__init__(activity_regularizer=activity_regularizer, **kwargs)\n"
          ]
        },
        {
          "output_type": "stream",
          "name": "stdout",
          "text": [
            "cnn: [449.530] 479.4, 444.0, 367.3, 482.9, 416.4, 337.2, 576.5\n"
          ]
        },
        {
          "output_type": "display_data",
          "data": {
            "text/plain": [
              "<Figure size 640x480 with 1 Axes>"
            ],
            "image/png": "[encoded data removed]"
          },
          "metadata": {}
        }
      ]
    },
    {
      "cell_type": "code",
      "source": [
        "# evaluate model and get scores\n",
        "n_input = 14"
      ],
      "metadata": {
        "id": "b4FUYj0--Ra4"
      },
      "execution_count": null,
      "outputs": []
    },
    {
      "cell_type": "code",
      "source": [
        "# convert history into inputs and outputs\n",
        "def to_supervised(train, n_input, n_out=7):\n",
        "\t# flatten data\n",
        "\tdata = train.reshape((train.shape[0]*train.shape[1], train.shape[2]))\n",
        "\tX, y = list(), list()\n",
        "\tin_start = 0\n",
        "\t# step over the entire history one time step at a time\n",
        "\tfor _ in range(len(data)):\n",
        "\t\t# define the end of the input sequence\n",
        "\t\tin_end = in_start + n_input\n",
        "\t\tout_end = in_end + n_out\n",
        "\t\t# ensure we have enough data for this instance\n",
        "\t\tif out_end <= len(data):\n",
        "\t\t\tX.append(data[in_start:in_end, :])\n",
        "\t\t\ty.append(data[in_end:out_end, 0])\n",
        "\t\t# move along one time step\n",
        "\t\tin_start += 1\n",
        "\treturn array(X), array(y)"
      ],
      "metadata": {
        "id": "AsKv7K8iSmEf"
      },
      "execution_count": null,
      "outputs": []
    },
    {
      "cell_type": "code",
      "source": [
        "X.append(data_reshaped[in_start:in_end, :])"
      ],
      "metadata": {
        "id": "nwPtAxKRSrJU"
      },
      "execution_count": null,
      "outputs": []
    },
    {
      "cell_type": "code",
      "source": [
        "# retrieve last observations for input data\n",
        "input_x = data_reshaped[-n_input:, :]\n",
        "# reshape into [1, n_input, n]\n",
        "input_x = input_x.reshape((1, input_x.shape[0], input_x.shape[1]))\n"
      ],
      "metadata": {
        "id": "7ZiO7tEUULon"
      },
      "execution_count": null,
      "outputs": []
    },
    {
      "cell_type": "code",
      "source": [
        "# make a forecast\n",
        "def forecast(model, history, n_input):\n",
        "\t# flatten data\n",
        "\tdata = array(history)\n",
        "\tdata = data.reshape((data.shape[0]*data.shape[1], data.shape[2]))\n",
        "\t# retrieve last observations for input data\n",
        "\tinput_x = data[-n_input:, :]\n",
        "\t# reshape into [1, n_input, n]\n",
        "\tinput_x = input_x.reshape((1, input_x.shape[0], input_x.shape[1]))\n",
        "\t# forecast the next week\n",
        "\tyhat = model.predict(input_x, verbose=0)\n",
        "\t# we only want the vector forecast\n",
        "\tyhat = yhat[0]\n",
        "\treturn yhat"
      ],
      "metadata": {
        "id": "h4oUmwNCUYGG"
      },
      "execution_count": null,
      "outputs": []
    },
    {
      "cell_type": "code",
      "source": [
        "n_input = 14"
      ],
      "metadata": {
        "id": "ak0UVrZxUepy"
      },
      "execution_count": null,
      "outputs": []
    },
    {
      "cell_type": "code",
      "source": [
        "# train the model\n",
        "def build_model(train, n_input):\n",
        "\t# prepare data\n",
        "\ttrain_x, train_y = to_supervised(train, n_input)\n",
        "\t# define parameters\n",
        "\tverbose, epochs, batch_size = 0, 70, 16\n",
        "\tn_timesteps, n_features, n_outputs = train_x.shape[1], train_x.shape[2], train_y.shape[1]\n",
        "\t# define model\n",
        "\tmodel = Sequential()\n",
        "\tmodel.add(Conv1D(filters=32, kernel_size=3, activation='relu', input_shape=(n_timesteps,n_features)))\n",
        "\tmodel.add(Conv1D(filters=32, kernel_size=3, activation='relu'))\n",
        "\tmodel.add(MaxPooling1D(pool_size=2))\n",
        "\tmodel.add(Conv1D(filters=16, kernel_size=3, activation='relu'))\n",
        "\tmodel.add(MaxPooling1D(pool_size=2))\n",
        "\tmodel.add(Flatten())\n",
        "\tmodel.add(Dense(100, activation='relu'))\n",
        "\tmodel.add(Dense(n_outputs))\n",
        "\tmodel.compile(loss='mse', optimizer='adam')\n",
        "\t# fit network\n",
        "\tmodel.fit(train_x, train_y, epochs=epochs, batch_size=batch_size, verbose=verbose)\n",
        "\treturn model"
      ],
      "metadata": {
        "id": "gXAE3M3-UnWM"
      },
      "execution_count": null,
      "outputs": []
    },
    {
      "cell_type": "code",
      "source": [
        "# multichannel multi-step cnn\n",
        "from math import sqrt\n",
        "from numpy import split\n",
        "from numpy import array\n",
        "from pandas import read_csv\n",
        "from sklearn.metrics import mean_squared_error\n",
        "from matplotlib import pyplot\n",
        "from keras.models import Sequential\n",
        "from keras.layers import Dense\n",
        "from keras.layers import Flatten\n",
        "# from keras.layers.convolutional import Conv1D\n",
        "# from keras.layers.convolutional import MaxPooling1D\n",
        "\n",
        "# split a univariate dataset into train/test sets\n",
        "def split_dataset(data):\n",
        "\t# split into standard weeks\n",
        "\ttrain, test = data[1:-328], data[-328:-6]\n",
        "\t# restructure into windows of weekly data\n",
        "\ttrain = array(split(train, len(train)/7))\n",
        "\ttest = array(split(test, len(test)/7))\n",
        "\treturn train, test\n",
        "\n",
        "# evaluate one or more weekly forecasts against expected values\n",
        "def evaluate_forecasts(actual, predicted):\n",
        "\tscores = list()\n",
        "\t# calculate an RMSE score for each day\n",
        "\tfor i in range(actual.shape[1]):\n",
        "\t\t# calculate mse\n",
        "\t\tmse = mean_squared_error(actual[:, i], predicted[:, i])\n",
        "\t\t# calculate rmse\n",
        "\t\trmse = sqrt(mse)\n",
        "\t\t# store\n",
        "\t\tscores.append(rmse)\n",
        "\t# calculate overall RMSE\n",
        "\ts = 0\n",
        "\tfor row in range(actual.shape[0]):\n",
        "\t\tfor col in range(actual.shape[1]):\n",
        "\t\t\ts += (actual[row, col] - predicted[row, col])**2\n",
        "\tscore = sqrt(s / (actual.shape[0] * actual.shape[1]))\n",
        "\treturn score, scores\n",
        "\n",
        "# summarize scores\n",
        "def summarize_scores(name, score, scores):\n",
        "\ts_scores = ', '.join(['%.1f' % s for s in scores])\n",
        "\tprint('%s: [%.3f] %s' % (name, score, s_scores))\n",
        "\n",
        "# convert history into inputs and outputs\n",
        "def to_supervised(train, n_input, n_out=7):\n",
        "\t# flatten data\n",
        "\tdata = train.reshape((train.shape[0]*train.shape[1], train.shape[2]))\n",
        "\tX, y = list(), list()\n",
        "\tin_start = 0\n",
        "\t# step over the entire history one time step at a time\n",
        "\tfor _ in range(len(data)):\n",
        "\t\t# define the end of the input sequence\n",
        "\t\tin_end = in_start + n_input\n",
        "\t\tout_end = in_end + n_out\n",
        "\t\t# ensure we have enough data for this instance\n",
        "\t\tif out_end <= len(data):\n",
        "\t\t\tX.append(data[in_start:in_end, :])\n",
        "\t\t\ty.append(data[in_end:out_end, 0])\n",
        "\t\t# move along one time step\n",
        "\t\tin_start += 1\n",
        "\treturn array(X), array(y)\n",
        "\n",
        "# train the model\n",
        "def build_model(train, n_input):\n",
        "\t# prepare data\n",
        "\ttrain_x, train_y = to_supervised(train, n_input)\n",
        "\t# define parameters\n",
        "\tverbose, epochs, batch_size = 0, 70, 16\n",
        "\tn_timesteps, n_features, n_outputs = train_x.shape[1], train_x.shape[2], train_y.shape[1]\n",
        "\t# define model\n",
        "\tmodel = Sequential()\n",
        "\tmodel.add(Conv1D(filters=32, kernel_size=3, activation='relu', input_shape=(n_timesteps,n_features)))\n",
        "\tmodel.add(Conv1D(filters=32, kernel_size=3, activation='relu'))\n",
        "\tmodel.add(MaxPooling1D(pool_size=2))\n",
        "\tmodel.add(Conv1D(filters=16, kernel_size=3, activation='relu'))\n",
        "\tmodel.add(MaxPooling1D(pool_size=2))\n",
        "\tmodel.add(Flatten())\n",
        "\tmodel.add(Dense(100, activation='relu'))\n",
        "\tmodel.add(Dense(n_outputs))\n",
        "\tmodel.compile(loss='mse', optimizer='adam')\n",
        "\t# fit network\n",
        "\tmodel.fit(train_x, train_y, epochs=epochs, batch_size=batch_size, verbose=verbose)\n",
        "\treturn model\n",
        "\n",
        "# make a forecast\n",
        "def forecast(model, history, n_input):\n",
        "\t# flatten data\n",
        "\tdata = array(history)\n",
        "\tdata = data.reshape((data.shape[0]*data.shape[1], data.shape[2]))\n",
        "\t# retrieve last observations for input data\n",
        "\tinput_x = data[-n_input:, :]\n",
        "\t# reshape into [1, n_input, n]\n",
        "\tinput_x = input_x.reshape((1, input_x.shape[0], input_x.shape[1]))\n",
        "\t# forecast the next week\n",
        "\tyhat = model.predict(input_x, verbose=0)\n",
        "\t# we only want the vector forecast\n",
        "\tyhat = yhat[0]\n",
        "\treturn yhat\n",
        "\n",
        "# evaluate a single model\n",
        "def evaluate_model(train, test, n_input):\n",
        "\t# fit model\n",
        "\tmodel = build_model(train, n_input)\n",
        "\t# history is a list of weekly data\n",
        "\thistory = [x for x in train]\n",
        "\t# walk-forward validation over each week\n",
        "\tpredictions = list()\n",
        "\tfor i in range(len(test)):\n",
        "\t\t# predict the week\n",
        "\t\tyhat_sequence = forecast(model, history, n_input)\n",
        "\t\t# store the predictions\n",
        "\t\tpredictions.append(yhat_sequence)\n",
        "\t\t# get real observation and add to history for predicting the next week\n",
        "\t\thistory.append(test[i, :])\n",
        "\t# evaluate predictions days for each week\n",
        "\tpredictions = array(predictions)\n",
        "\tscore, scores = evaluate_forecasts(test[:, :, 0], predictions)\n",
        "\treturn score, scores\n",
        "\n",
        "# load the new file\n",
        "dataset = read_csv('household_power_consumption_days.csv', header=0, infer_datetime_format=True, parse_dates=['datetime'], index_col=['datetime'])\n",
        "# split into train and test\n",
        "train, test = split_dataset(dataset.values)\n",
        "# evaluate model and get scores\n",
        "n_input = 14\n",
        "score, scores = evaluate_model(train, test, n_input)\n",
        "# summarize scores\n",
        "summarize_scores('cnn', score, scores)\n",
        "# plot scores\n",
        "days = ['sun', 'mon', 'tue', 'wed', 'thr', 'fri', 'sat']\n",
        "pyplot.plot(days, scores, marker='o', label='cnn')\n",
        "pyplot.show()"
      ],
      "metadata": {
        "colab": {
          "base_uri": "https://localhost:8080/",
          "height": 537
        },
        "id": "kyqvx43nUpew",
        "outputId": "3311d53a-7546-4548-cf98-9d32fb0fce63"
      },
      "execution_count": null,
      "outputs": [
        {
          "output_type": "stream",
          "name": "stderr",
          "text": [
            "<ipython-input-85-1dcce7c4150b>:124: FutureWarning: The argument 'infer_datetime_format' is deprecated and will be removed in a future version. A strict version of it is now the default, see https://pandas.pydata.org/pdeps/0004-consistent-to-datetime-parsing.html. You can safely remove this argument.\n",
            "  dataset = read_csv('household_power_consumption_days.csv', header=0, infer_datetime_format=True, parse_dates=['datetime'], index_col=['datetime'])\n",
            "/usr/local/lib/python3.10/dist-packages/keras/src/layers/convolutional/base_conv.py:107: UserWarning: Do not pass an `input_shape`/`input_dim` argument to a layer. When using Sequential models, prefer using an `Input(shape)` object as the first layer in the model instead.\n",
            "  super().__init__(activity_regularizer=activity_regularizer, **kwargs)\n"
          ]
        },
        {
          "output_type": "stream",
          "name": "stdout",
          "text": [
            "cnn: [586.412] 648.6, 509.9, 476.4, 664.5, 524.0, 443.2, 766.2\n"
          ]
        },
        {
          "output_type": "display_data",
          "data": {
            "text/plain": [
              "<Figure size 640x480 with 1 Axes>"
            ],
            "image/png": "[encoded data removed]"
          },
          "metadata": {}
        }
      ]
    },
    {
      "cell_type": "markdown",
      "source": [
        "# Peramalan Rangkaian Waktu Multi-Langkah Dengan CNN Multihead"
      ],
      "metadata": {
        "id": "5Sp3i4ZMVBcW"
      }
    },
    {
      "cell_type": "code",
      "source": [
        "from tensorflow.keras.layers import Input, Conv1D, MaxPooling1D, Flatten, concatenate, Dense\n",
        "from tensorflow.keras.models import Model\n",
        "\n",
        "n_timesteps = 10  # Example value, replace with actual number of timesteps\n",
        "n_outputs = 1  # Example value, replace with actual number of outputs\n",
        "\n",
        "n_input = 7\n",
        "# create a channel for each variable\n",
        "in_layers, out_layers = list(), list()\n",
        "for i in range(n_input):\n",
        "    inputs = Input(shape=(n_timesteps, 1))\n",
        "    conv1 = Conv1D(filters=32, kernel_size=3, activation='relu')(inputs)\n",
        "    conv2 = Conv1D(filters=32, kernel_size=3, activation='relu')(conv1)\n",
        "    pool1 = MaxPooling1D(pool_size=2)(conv2)\n",
        "    flat = Flatten()(pool1)\n",
        "    # store layers\n",
        "    in_layers.append(inputs)\n",
        "    out_layers.append(flat)\n",
        "# merge heads\n",
        "merged = concatenate(out_layers)\n",
        "# interpretation\n",
        "dense1 = Dense(200, activation='relu')(merged)\n",
        "dense2 = Dense(100, activation='relu')(dense1)\n",
        "outputs = Dense(n_outputs)(dense2)\n",
        "model = Model(inputs=in_layers, outputs=outputs)\n",
        "# compile model\n",
        "model.compile(loss='mse', optimizer='adam')\n"
      ],
      "metadata": {
        "id": "t7vda7AmUrcO"
      },
      "execution_count": null,
      "outputs": []
    },
    {
      "cell_type": "code",
      "source": [
        "\n",
        "# Now create input_data for each feature\n",
        "input_data = [data_reshaped for _ in range(n_input)]\n"
      ],
      "metadata": {
        "id": "gFciOJKsVEdr"
      },
      "execution_count": null,
      "outputs": []
    },
    {
      "cell_type": "code",
      "source": [
        "# train the model\n",
        "def build_model(train, n_input):\n",
        "\t# prepare data\n",
        "\ttrain_x, train_y = to_supervised(train, n_input)\n",
        "\t# define parameters\n",
        "\tverbose, epochs, batch_size = 0, 25, 16\n",
        "\tn_timesteps, n_features, n_outputs = train_x.shape[1], train_x.shape[2], train_y.shape[1]\n",
        "\t# create a channel for each variable\n",
        "\tin_layers, out_layers = list(), list()\n",
        "\tfor i in range(n_features):\n",
        "\t\tinputs = Input(shape=(n_timesteps,1))\n",
        "\t\tconv1 = Conv1D(filters=32, kernel_size=3, activation='relu')(inputs)\n",
        "\t\tconv2 = Conv1D(filters=32, kernel_size=3, activation='relu')(conv1)\n",
        "\t\tpool1 = MaxPooling1D(pool_size=2)(conv2)\n",
        "\t\tflat = Flatten()(pool1)\n",
        "\t\t# store layers\n",
        "\t\tin_layers.append(inputs)\n",
        "\t\tout_layers.append(flat)\n",
        "\t# merge heads\n",
        "\tmerged = concatenate(out_layers)\n",
        "\t# interpretation\n",
        "\tdense1 = Dense(200, activation='relu')(merged)\n",
        "\tdense2 = Dense(100, activation='relu')(dense1)\n",
        "\toutputs = Dense(n_outputs)(dense2)\n",
        "\tmodel = Model(inputs=in_layers, outputs=outputs)\n",
        "\t# compile model\n",
        "\tmodel.compile(loss='mse', optimizer='adam')\n",
        "\t# plot the model\n",
        "\tplot_model(model, show_shapes=True, to_file='multiheaded_cnn.png')\n",
        "\t# fit network\n",
        "\tinput_data = [train_x[:,:,i].reshape((train_x.shape[0],n_timesteps,1)) for i in range(n_features)]\n",
        "\tmodel.fit(input_data, train_y, epochs=epochs, batch_size=batch_size, verbose=verbose)\n",
        "\treturn model"
      ],
      "metadata": {
        "id": "WSrPi53XWB16"
      },
      "execution_count": null,
      "outputs": []
    },
    {
      "cell_type": "code",
      "source": [
        "input_x = [input_x[:,i].reshape((1,input_x.shape[0],1)) for i in range(input_x.shape[1])]"
      ],
      "metadata": {
        "id": "lBfmrVg2XZ9u"
      },
      "execution_count": null,
      "outputs": []
    },
    {
      "cell_type": "code",
      "source": [
        "# make a forecast\n",
        "def forecast(model, history, n_input):\n",
        "\t# flatten data\n",
        "\tdata = array(history)\n",
        "\tdata = data.reshape((data.shape[0]*data.shape[1], data.shape[2]))\n",
        "\t# retrieve last observations for input data\n",
        "\tinput_x = data[-n_input:, :]\n",
        "\t# reshape into n input arrays\n",
        "\tinput_x = [input_x[:,i].reshape((1,input_x.shape[0],1)) for i in range(input_x.shape[1])]\n",
        "\t# forecast the next week\n",
        "\tyhat = model.predict(input_x, verbose=0)\n",
        "\t# we only want the vector forecast\n",
        "\tyhat = yhat[0]\n",
        "\treturn yhat"
      ],
      "metadata": {
        "id": "pDKWUOdnXdMx"
      },
      "execution_count": null,
      "outputs": []
    },
    {
      "cell_type": "code",
      "source": [
        "# multi headed multi-step cnn\n",
        "from math import sqrt\n",
        "from numpy import split\n",
        "from numpy import array\n",
        "from pandas import read_csv\n",
        "from sklearn.metrics import mean_squared_error\n",
        "from matplotlib import pyplot\n",
        "from keras.models import Sequential\n",
        "from keras.layers import Dense\n",
        "from keras.layers import Flatten\n",
        "# from keras.layers.convolutional import Conv1D\n",
        "# from keras.layers.convolutional import MaxPooling1D\n",
        "from keras.models import Model\n",
        "from keras.layers import Input\n",
        "# from keras.layers.merge import concatenate\n",
        "\n",
        "# split a univariate dataset into train/test sets\n",
        "def split_dataset(data):\n",
        "\t# split into standard weeks\n",
        "\ttrain, test = data[1:-328], data[-328:-6]\n",
        "\t# restructure into windows of weekly data\n",
        "\ttrain = array(split(train, len(train)/7))\n",
        "\ttest = array(split(test, len(test)/7))\n",
        "\treturn train, test\n",
        "\n",
        "# evaluate one or more weekly forecasts against expected values\n",
        "def evaluate_forecasts(actual, predicted):\n",
        "\tscores = list()\n",
        "\t# calculate an RMSE score for each day\n",
        "\tfor i in range(actual.shape[1]):\n",
        "\t\t# calculate mse\n",
        "\t\tmse = mean_squared_error(actual[:, i], predicted[:, i])\n",
        "\t\t# calculate rmse\n",
        "\t\trmse = sqrt(mse)\n",
        "\t\t# store\n",
        "\t\tscores.append(rmse)\n",
        "\t# calculate overall RMSE\n",
        "\ts = 0\n",
        "\tfor row in range(actual.shape[0]):\n",
        "\t\tfor col in range(actual.shape[1]):\n",
        "\t\t\ts += (actual[row, col] - predicted[row, col])**2\n",
        "\tscore = sqrt(s / (actual.shape[0] * actual.shape[1]))\n",
        "\treturn score, scores\n",
        "\n",
        "# summarize scores\n",
        "def summarize_scores(name, score, scores):\n",
        "\ts_scores = ', '.join(['%.1f' % s for s in scores])\n",
        "\tprint('%s: [%.3f] %s' % (name, score, s_scores))\n",
        "\n",
        "# convert history into inputs and outputs\n",
        "def to_supervised(train, n_input, n_out=7):\n",
        "\t# flatten data\n",
        "\tdata = train.reshape((train.shape[0]*train.shape[1], train.shape[2]))\n",
        "\tX, y = list(), list()\n",
        "\tin_start = 0\n",
        "\t# step over the entire history one time step at a time\n",
        "\tfor _ in range(len(data)):\n",
        "\t\t# define the end of the input sequence\n",
        "\t\tin_end = in_start + n_input\n",
        "\t\tout_end = in_end + n_out\n",
        "\t\t# ensure we have enough data for this instance\n",
        "\t\tif out_end <= len(data):\n",
        "\t\t\tX.append(data[in_start:in_end, :])\n",
        "\t\t\ty.append(data[in_end:out_end, 0])\n",
        "\t\t# move along one time step\n",
        "\t\tin_start += 1\n",
        "\treturn array(X), array(y)\n",
        "\n",
        "# plot training history\n",
        "def plot_history(history):\n",
        "\t# plot loss\n",
        "\tpyplot.subplot(2, 1, 1)\n",
        "\tpyplot.plot(history.history['loss'], label='train')\n",
        "\tpyplot.plot(history.history['val_loss'], label='test')\n",
        "\tpyplot.title('loss', y=0, loc='center')\n",
        "\tpyplot.legend()\n",
        "\t# plot rmse\n",
        "\tpyplot.subplot(2, 1, 2)\n",
        "\tpyplot.plot(history.history['rmse'], label='train')\n",
        "\tpyplot.plot(history.history['val_rmse'], label='test')\n",
        "\tpyplot.title('rmse', y=0, loc='center')\n",
        "\tpyplot.legend()\n",
        "\tpyplot.show()\n",
        "\n",
        "# train the model\n",
        "def build_model(train, n_input):\n",
        "\t# prepare data\n",
        "\ttrain_x, train_y = to_supervised(train, n_input)\n",
        "\t# define parameters\n",
        "\tverbose, epochs, batch_size = 0, 25, 16\n",
        "\tn_timesteps, n_features, n_outputs = train_x.shape[1], train_x.shape[2], train_y.shape[1]\n",
        "\t# create a channel for each variable\n",
        "\tin_layers, out_layers = list(), list()\n",
        "\tfor i in range(n_features):\n",
        "\t\tinputs = Input(shape=(n_timesteps,1))\n",
        "\t\tconv1 = Conv1D(filters=32, kernel_size=3, activation='relu')(inputs)\n",
        "\t\tconv2 = Conv1D(filters=32, kernel_size=3, activation='relu')(conv1)\n",
        "\t\tpool1 = MaxPooling1D(pool_size=2)(conv2)\n",
        "\t\tflat = Flatten()(pool1)\n",
        "\t\t# store layers\n",
        "\t\tin_layers.append(inputs)\n",
        "\t\tout_layers.append(flat)\n",
        "\t# merge heads\n",
        "\tmerged = concatenate(out_layers)\n",
        "\t# interpretation\n",
        "\tdense1 = Dense(200, activation='relu')(merged)\n",
        "\tdense2 = Dense(100, activation='relu')(dense1)\n",
        "\toutputs = Dense(n_outputs)(dense2)\n",
        "\tmodel = Model(inputs=in_layers, outputs=outputs)\n",
        "\t# compile model\n",
        "\tmodel.compile(loss='mse', optimizer='adam')\n",
        "\t# fit network\n",
        "\tinput_data = [train_x[:,:,i].reshape((train_x.shape[0],n_timesteps,1)) for i in range(n_features)]\n",
        "\tmodel.fit(input_data, train_y, epochs=epochs, batch_size=batch_size, verbose=verbose)\n",
        "\treturn model\n",
        "\n",
        "# make a forecast\n",
        "def forecast(model, history, n_input):\n",
        "\t# flatten data\n",
        "\tdata = array(history)\n",
        "\tdata = data.reshape((data.shape[0]*data.shape[1], data.shape[2]))\n",
        "\t# retrieve last observations for input data\n",
        "\tinput_x = data[-n_input:, :]\n",
        "\t# reshape into n input arrays\n",
        "\tinput_x = [input_x[:,i].reshape((1,input_x.shape[0],1)) for i in range(input_x.shape[1])]\n",
        "\t# forecast the next week\n",
        "\tyhat = model.predict(input_x, verbose=0)\n",
        "\t# we only want the vector forecast\n",
        "\tyhat = yhat[0]\n",
        "\treturn yhat\n",
        "\n",
        "# evaluate a single model\n",
        "def evaluate_model(train, test, n_input):\n",
        "\t# fit model\n",
        "\tmodel = build_model(train, n_input)\n",
        "\t# history is a list of weekly data\n",
        "\thistory = [x for x in train]\n",
        "\t# walk-forward validation over each week\n",
        "\tpredictions = list()\n",
        "\tfor i in range(len(test)):\n",
        "\t\t# predict the week\n",
        "\t\tyhat_sequence = forecast(model, history, n_input)\n",
        "\t\t# store the predictions\n",
        "\t\tpredictions.append(yhat_sequence)\n",
        "\t\t# get real observation and add to history for predicting the next week\n",
        "\t\thistory.append(test[i, :])\n",
        "\t# evaluate predictions days for each week\n",
        "\tpredictions = array(predictions)\n",
        "\tscore, scores = evaluate_forecasts(test[:, :, 0], predictions)\n",
        "\treturn score, scores\n",
        "\n",
        "# load the new file\n",
        "dataset = read_csv('household_power_consumption_days.csv', header=0, infer_datetime_format=True, parse_dates=['datetime'], index_col=['datetime'])\n",
        "# split into train and test\n",
        "train, test = split_dataset(dataset.values)\n",
        "# evaluate model and get scores\n",
        "n_input = 14\n",
        "score, scores = evaluate_model(train, test, n_input)\n",
        "# summarize scores\n",
        "summarize_scores('cnn', score, scores)\n",
        "# plot scores\n",
        "days = ['sun', 'mon', 'tue', 'wed', 'thr', 'fri', 'sat']\n",
        "pyplot.plot(days, scores, marker='o', label='cnn')\n",
        "pyplot.show()"
      ],
      "metadata": {
        "colab": {
          "base_uri": "https://localhost:8080/",
          "height": 506
        },
        "id": "MSpDHcxLXh6C",
        "outputId": "b54bf563-0148-47bc-85cb-18185c064c79"
      },
      "execution_count": null,
      "outputs": [
        {
          "output_type": "stream",
          "name": "stderr",
          "text": [
            "<ipython-input-106-a32423b34c53>:153: FutureWarning: The argument 'infer_datetime_format' is deprecated and will be removed in a future version. A strict version of it is now the default, see https://pandas.pydata.org/pdeps/0004-consistent-to-datetime-parsing.html. You can safely remove this argument.\n",
            "  dataset = read_csv('household_power_consumption_days.csv', header=0, infer_datetime_format=True, parse_dates=['datetime'], index_col=['datetime'])\n"
          ]
        },
        {
          "output_type": "stream",
          "name": "stdout",
          "text": [
            "cnn: [595.268] 500.7, 642.6, 549.6, 734.8, 553.7, 412.0, 706.0\n"
          ]
        },
        {
          "output_type": "display_data",
          "data": {
            "text/plain": [
              "<Figure size 640x480 with 1 Axes>"
            ],
            "image/png": "[encoded data removed]"
          },
          "metadata": {}
        }
      ]
    },
    {
      "cell_type": "code",
      "source": [],
      "metadata": {
        "id": "uKkswwxwXkBm"
      },
      "execution_count": null,
      "outputs": []
    }
  ]
}