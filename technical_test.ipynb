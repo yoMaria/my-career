{
  "nbformat": 4,
  "nbformat_minor": 0,
  "metadata": {
    "colab": {
      "provenance": []
    },
    "kernelspec": {
      "name": "python3",
      "display_name": "Python 3"
    },
    "language_info": {
      "name": "python"
    }
  },
  "cells": [
    {
      "cell_type": "code",
      "execution_count": 1,
      "metadata": {
        "colab": {
          "base_uri": "https://localhost:8080/"
        },
        "collapsed": true,
        "id": "1Ly5_xT-sO25",
        "outputId": "999978ae-ea2f-414e-bfc0-3928eee081f3"
      },
      "outputs": [
        {
          "output_type": "stream",
          "name": "stdout",
          "text": [
            "Collecting ucimlrepo\n",
            "  Downloading ucimlrepo-0.0.7-py3-none-any.whl.metadata (5.5 kB)\n",
            "Requirement already satisfied: pandas>=1.0.0 in /usr/local/lib/python3.11/dist-packages (from ucimlrepo) (2.2.2)\n",
            "Requirement already satisfied: certifi>=2020.12.5 in /usr/local/lib/python3.11/dist-packages (from ucimlrepo) (2025.1.31)\n",
            "Requirement already satisfied: numpy>=1.23.2 in /usr/local/lib/python3.11/dist-packages (from pandas>=1.0.0->ucimlrepo) (2.0.2)\n",
            "Requirement already satisfied: python-dateutil>=2.8.2 in /usr/local/lib/python3.11/dist-packages (from pandas>=1.0.0->ucimlrepo) (2.8.2)\n",
            "Requirement already satisfied: pytz>=2020.1 in /usr/local/lib/python3.11/dist-packages (from pandas>=1.0.0->ucimlrepo) (2025.2)\n",
            "Requirement already satisfied: tzdata>=2022.7 in /usr/local/lib/python3.11/dist-packages (from pandas>=1.0.0->ucimlrepo) (2025.2)\n",
            "Requirement already satisfied: six>=1.5 in /usr/local/lib/python3.11/dist-packages (from python-dateutil>=2.8.2->pandas>=1.0.0->ucimlrepo) (1.17.0)\n",
            "Downloading ucimlrepo-0.0.7-py3-none-any.whl (8.0 kB)\n",
            "Installing collected packages: ucimlrepo\n",
            "Successfully installed ucimlrepo-0.0.7\n"
          ]
        }
      ],
      "source": [
        "# pip install ucimlrepo"
      ]
    },
    {
      "cell_type": "code",
      "source": [
        "from ucimlrepo import fetch_ucirepo\n",
        "\n",
        "# fetch dataset\n",
        "iris = fetch_ucirepo(id=53)\n",
        "\n",
        "# data (as pandas dataframes)\n",
        "X = iris.data.features\n",
        "y = iris.data.targets\n",
        "\n",
        "# metadata\n",
        "print(iris.metadata)\n",
        "\n",
        "# variable information\n",
        "print(iris.variables)\n"
      ],
      "metadata": {
        "colab": {
          "base_uri": "https://localhost:8080/"
        },
        "id": "AmGiIsc1sZ_b",
        "outputId": "166ef216-38c8-47bc-bd3b-5910fbe4baef"
      },
      "execution_count": 2,
      "outputs": [
        {
          "output_type": "stream",
          "name": "stdout",
          "text": [
            "{'uci_id': 53, 'name': 'Iris', 'repository_url': 'https://archive.ics.uci.edu/dataset/53/iris', 'data_url': 'https://archive.ics.uci.edu/static/public/53/data.csv', 'abstract': 'A small classic dataset from Fisher, 1936. One of the earliest known datasets used for evaluating classification methods.\\n', 'area': 'Biology', 'tasks': ['Classification'], 'characteristics': ['Tabular'], 'num_instances': 150, 'num_features': 4, 'feature_types': ['Real'], 'demographics': [], 'target_col': ['class'], 'index_col': None, 'has_missing_values': 'no', 'missing_values_symbol': None, 'year_of_dataset_creation': 1936, 'last_updated': 'Tue Sep 12 2023', 'dataset_doi': '10.24432/C56C76', 'creators': ['R. A. Fisher'], 'intro_paper': {'ID': 191, 'type': 'NATIVE', 'title': 'The Iris data set: In search of the source of virginica', 'authors': 'A. Unwin, K. Kleinman', 'venue': 'Significance, 2021', 'year': 2021, 'journal': 'Significance, 2021', 'DOI': '1740-9713.01589', 'URL': 'https://www.semanticscholar.org/paper/4599862ea877863669a6a8e63a3c707a787d5d7e', 'sha': None, 'corpus': None, 'arxiv': None, 'mag': None, 'acl': None, 'pmid': None, 'pmcid': None}, 'additional_info': {'summary': 'This is one of the earliest datasets used in the literature on classification methods and widely used in statistics and machine learning.  The data set contains 3 classes of 50 instances each, where each class refers to a type of iris plant.  One class is linearly separable from the other 2; the latter are not linearly separable from each other.\\n\\nPredicted attribute: class of iris plant.\\n\\nThis is an exceedingly simple domain.\\n\\nThis data differs from the data presented in Fishers article (identified by Steve Chadwick,  spchadwick@espeedaz.net ).  The 35th sample should be: 4.9,3.1,1.5,0.2,\"Iris-setosa\" where the error is in the fourth feature. The 38th sample: 4.9,3.6,1.4,0.1,\"Iris-setosa\" where the errors are in the second and third features.  ', 'purpose': 'N/A', 'funded_by': None, 'instances_represent': 'Each instance is a plant', 'recommended_data_splits': None, 'sensitive_data': None, 'preprocessing_description': None, 'variable_info': None, 'citation': None}}\n",
            "           name     role         type demographic  \\\n",
            "0  sepal length  Feature   Continuous        None   \n",
            "1   sepal width  Feature   Continuous        None   \n",
            "2  petal length  Feature   Continuous        None   \n",
            "3   petal width  Feature   Continuous        None   \n",
            "4         class   Target  Categorical        None   \n",
            "\n",
            "                                         description units missing_values  \n",
            "0                                               None    cm             no  \n",
            "1                                               None    cm             no  \n",
            "2                                               None    cm             no  \n",
            "3                                               None    cm             no  \n",
            "4  class of iris plant: Iris Setosa, Iris Versico...  None             no  \n"
          ]
        }
      ]
    },
    {
      "cell_type": "code",
      "source": [
        "from sklearn.model_selection import train_test_split\n",
        "\n",
        "X_train, X_test, y_train, y_test = train_test_split(X, y, test_size=0.2, shuffle=False)"
      ],
      "metadata": {
        "id": "k-MeSM1LsnJ-"
      },
      "execution_count": 3,
      "outputs": []
    },
    {
      "cell_type": "code",
      "source": [
        "df['gender'] = df['gender'].map({'M': 0, 'F': 1})"
      ],
      "metadata": {
        "id": "B9eub5lws-Vd"
      },
      "execution_count": null,
      "outputs": []
    },
    {
      "cell_type": "code",
      "source": [
        "from sklearn.feature_extraction.text import TfidfVectorizer\n",
        "\n",
        "corpus = [\n",
        "    \"AI is awesome\",\n",
        "    \"Machine learning is a branch of AI\",\n",
        "    \"Deep learning is part of machine learning\"\n",
        "]\n",
        "\n",
        "vectorizer = TfidfVectorizer()\n",
        "X = vectorizer.fit_transform(corpus)\n",
        "\n",
        "print(X.toarray())  # hasil vektor\n",
        "print(vectorizer.get_feature_names_out())  # kata-kata yang direpresentasikan\n",
        "from sklearn.feature_extraction.text import TfidfVectorizer\n",
        "\n",
        "corpus = [\n",
        "    \"AI is awesome\",\n",
        "    \"Machine learning is a branch of AI\",\n",
        "    \"Deep learning is part of machine learning\"\n",
        "]\n",
        "\n",
        "vectorizer = TfidfVectorizer()\n",
        "X = vectorizer.fit_transform(corpus)\n",
        "\n",
        "print(X.toarray())  # hasil vektor\n",
        "print(vectorizer.get_feature_names_out())  # kata-kata yang direpresentasikan\n"
      ],
      "metadata": {
        "colab": {
          "base_uri": "https://localhost:8080/"
        },
        "id": "fzXY1WKOyMyu",
        "outputId": "446934a2-4355-4962-90ab-f705b464f6d3"
      },
      "execution_count": 4,
      "outputs": [
        {
          "output_type": "stream",
          "name": "stdout",
          "text": [
            "[[0.54783215 0.72033345 0.         0.         0.42544054 0.\n",
            "  0.         0.         0.        ]\n",
            " [0.39740155 0.         0.52253528 0.         0.30861775 0.39740155\n",
            "  0.39740155 0.39740155 0.        ]\n",
            " [0.         0.         0.         0.41454097 0.24483457 0.63053818\n",
            "  0.31526909 0.31526909 0.41454097]]\n",
            "['ai' 'awesome' 'branch' 'deep' 'is' 'learning' 'machine' 'of' 'part']\n",
            "[[0.54783215 0.72033345 0.         0.         0.42544054 0.\n",
            "  0.         0.         0.        ]\n",
            " [0.39740155 0.         0.52253528 0.         0.30861775 0.39740155\n",
            "  0.39740155 0.39740155 0.        ]\n",
            " [0.         0.         0.         0.41454097 0.24483457 0.63053818\n",
            "  0.31526909 0.31526909 0.41454097]]\n",
            "['ai' 'awesome' 'branch' 'deep' 'is' 'learning' 'machine' 'of' 'part']\n"
          ]
        }
      ]
    },
    {
      "cell_type": "markdown",
      "source": [
        "# Basic\n"
      ],
      "metadata": {
        "id": "P8u4BE1O70Ze"
      }
    },
    {
      "cell_type": "code",
      "source": [
        "# buat array\n",
        "arr = [3, 10, 7, 12, 5, 6, 19, 8, 1]"
      ],
      "metadata": {
        "id": "kZoLKioW7yGp"
      },
      "execution_count": 5,
      "outputs": []
    },
    {
      "cell_type": "code",
      "source": [
        "def jum_arr(arr):\n",
        "    return len(arr)\n",
        "\n",
        "jum_arr(arr)"
      ],
      "metadata": {
        "colab": {
          "base_uri": "https://localhost:8080/"
        },
        "id": "XyJEQWRT8BhE",
        "outputId": "7bc45de4-e121-4093-fe74-74b52b637088"
      },
      "execution_count": 6,
      "outputs": [
        {
          "output_type": "execute_result",
          "data": {
            "text/plain": [
              "9"
            ]
          },
          "metadata": {},
          "execution_count": 6
        }
      ]
    },
    {
      "cell_type": "code",
      "source": [
        "# nilai elemn terakhir\n",
        "def last_element(arr):\n",
        "  return arr[-1] if arr else None\n",
        "\n",
        "last_element(arr)"
      ],
      "metadata": {
        "colab": {
          "base_uri": "https://localhost:8080/"
        },
        "id": "oBOLELF08Pos",
        "outputId": "3148246f-6a88-4cc1-a70a-dd6f35c56f7d"
      },
      "execution_count": 7,
      "outputs": [
        {
          "output_type": "execute_result",
          "data": {
            "text/plain": [
              "1"
            ]
          },
          "metadata": {},
          "execution_count": 7
        }
      ]
    },
    {
      "cell_type": "code",
      "source": [
        "# bilangan genap\n",
        "def cek_even(arr):\n",
        "  array_genap = []\n",
        "  for i in arr:\n",
        "    array_genap.append(i % 2 == 0)\n",
        "    return array_genap\n",
        "\n",
        "cek_even(arr)"
      ],
      "metadata": {
        "colab": {
          "base_uri": "https://localhost:8080/"
        },
        "id": "BOjVryOe8f8P",
        "outputId": "b6d08897-538a-490e-ca4e-5268a6a9428f"
      },
      "execution_count": 8,
      "outputs": [
        {
          "output_type": "execute_result",
          "data": {
            "text/plain": [
              "[False]"
            ]
          },
          "metadata": {},
          "execution_count": 8
        }
      ]
    },
    {
      "cell_type": "code",
      "source": [
        "def ganjil_terkecil(arr):\n",
        "    terkecil = None\n",
        "    for x in arr:\n",
        "        if x % 2 == 1:\n",
        "            if terkecil is None or x < terkecil:\n",
        "                terkecil = x\n",
        "    return terkecil\n",
        "\n",
        "print(ganjil_terkecil(arr))\n"
      ],
      "metadata": {
        "colab": {
          "base_uri": "https://localhost:8080/"
        },
        "id": "9bOahcgS9Fky",
        "outputId": "ecaf8e47-a8d0-4912-9919-857c9f24c205"
      },
      "execution_count": 9,
      "outputs": [
        {
          "output_type": "stream",
          "name": "stdout",
          "text": [
            "1\n"
          ]
        }
      ]
    },
    {
      "cell_type": "code",
      "source": [
        "def is_prime(n):\n",
        "  if n < 2: # cek kalau n < 2 brarti bukan prima\n",
        "    return False\n",
        "  for i in range(2, int(n**0.5)+1): # cek hasil bagi akar n\n",
        "    if n % i == 0: # cek jika habis dibagi 0 maka bukan prima\n",
        "      return False\n",
        "  return True\n",
        "\n",
        "is_prime(3)"
      ],
      "metadata": {
        "colab": {
          "base_uri": "https://localhost:8080/"
        },
        "id": "hU8XiXpU9pE6",
        "outputId": "e56e5bf1-c8fa-49fd-87b4-0e868c9770a7"
      },
      "execution_count": 11,
      "outputs": [
        {
          "output_type": "execute_result",
          "data": {
            "text/plain": [
              "True"
            ]
          },
          "metadata": {},
          "execution_count": 11
        }
      ]
    },
    {
      "cell_type": "code",
      "source": [
        "# menghitung"
      ],
      "metadata": {
        "id": "BKmWZLNY_0xl"
      },
      "execution_count": null,
      "outputs": []
    },
    {
      "cell_type": "markdown",
      "source": [
        "## Latihan ARRAY"
      ],
      "metadata": {
        "id": "EnkgA64QDxQi"
      }
    },
    {
      "cell_type": "code",
      "source": [
        "angka = [12, 7, 9, 20, 17, 4, 23]\n",
        "array1 = [1, 3, 5]\n",
        "array2 = [2, 4, 6]"
      ],
      "metadata": {
        "id": "3sbjmp9MDydq"
      },
      "execution_count": 12,
      "outputs": []
    },
    {
      "cell_type": "code",
      "source": [
        "# hitung jumlah elemen LEN\n",
        "jumlah = len(angka)\n",
        "jumlah"
      ],
      "metadata": {
        "colab": {
          "base_uri": "https://localhost:8080/"
        },
        "id": "SFge9TTPD1Xh",
        "outputId": "0fa9ba2e-20e2-48f5-c73f-b452b9483c0d"
      },
      "execution_count": 13,
      "outputs": [
        {
          "output_type": "execute_result",
          "data": {
            "text/plain": [
              "7"
            ]
          },
          "metadata": {},
          "execution_count": 13
        }
      ]
    },
    {
      "cell_type": "code",
      "source": [
        "# nambahin elemen ke dalam array APPEND\n",
        "angka.append(15)\n",
        "angka"
      ],
      "metadata": {
        "colab": {
          "base_uri": "https://localhost:8080/"
        },
        "id": "_8T3D6c_D53W",
        "outputId": "cb0000de-9c27-43fa-ae7a-38d233674987"
      },
      "execution_count": 14,
      "outputs": [
        {
          "output_type": "execute_result",
          "data": {
            "text/plain": [
              "[12, 7, 9, 20, 17, 4, 23, 15]"
            ]
          },
          "metadata": {},
          "execution_count": 14
        }
      ]
    },
    {
      "cell_type": "code",
      "source": [
        "print(angka[-1]) # nampilin data terakhir dalam array"
      ],
      "metadata": {
        "colab": {
          "base_uri": "https://localhost:8080/"
        },
        "id": "4zgoe4PoEEzD",
        "outputId": "e336481e-8cb6-40c7-8f8a-93bf751735e3"
      },
      "execution_count": 15,
      "outputs": [
        {
          "output_type": "stream",
          "name": "stdout",
          "text": [
            "15\n"
          ]
        }
      ]
    },
    {
      "cell_type": "code",
      "source": [
        "print(angka[0]) # nampilin data pertama dalam array"
      ],
      "metadata": {
        "colab": {
          "base_uri": "https://localhost:8080/"
        },
        "id": "U5ta1tfsEKo2",
        "outputId": "c9c121bc-82e4-4046-f38c-f8dabcbdafa9"
      },
      "execution_count": 16,
      "outputs": [
        {
          "output_type": "stream",
          "name": "stdout",
          "text": [
            "12\n"
          ]
        }
      ]
    },
    {
      "cell_type": "code",
      "source": [
        "# cek angka genap\n",
        "x = angka[0]\n",
        "\n",
        "print(x % 2 == 0)"
      ],
      "metadata": {
        "colab": {
          "base_uri": "https://localhost:8080/"
        },
        "id": "q5oAeNpKEOvg",
        "outputId": "964c7b97-4976-4ba1-96bc-f0b19be6cce1"
      },
      "execution_count": 17,
      "outputs": [
        {
          "output_type": "stream",
          "name": "stdout",
          "text": [
            "True\n"
          ]
        }
      ]
    },
    {
      "cell_type": "code",
      "source": [
        "# elemen ganjil terkecil dalam array\n",
        "# logika : kalau nilai x dari array di bagi 2 ngak habis maka ganjil\n",
        "ganjil = [x for x in angka if x % 2 != 0]\n",
        "terkecil = min(ganjil) # dari array ganjil dipilih nilai terkecil\n",
        "\n",
        "print(terkecil)"
      ],
      "metadata": {
        "colab": {
          "base_uri": "https://localhost:8080/"
        },
        "id": "Gcpc6uXZEZ8R",
        "outputId": "71aeed1a-265c-4ecb-ee75-a9c4bd1566c4"
      },
      "execution_count": 18,
      "outputs": [
        {
          "output_type": "stream",
          "name": "stdout",
          "text": [
            "7\n"
          ]
        }
      ]
    },
    {
      "cell_type": "code",
      "source": [
        "# urutkan data secara menaik SORT\n",
        "angka.sort()\n",
        "print(angka)"
      ],
      "metadata": {
        "colab": {
          "base_uri": "https://localhost:8080/"
        },
        "id": "PJbf2v7FEqm6",
        "outputId": "7c99ae58-3d8e-4c94-e220-421978da1b77"
      },
      "execution_count": 20,
      "outputs": [
        {
          "output_type": "stream",
          "name": "stdout",
          "text": [
            "[4, 7, 9, 12, 15, 17, 20, 23]\n"
          ]
        }
      ]
    },
    {
      "cell_type": "code",
      "source": [
        "# urutkan data secara menaik REVERSE = TRUE\n",
        "angka.sort(reverse=True)\n",
        "print(angka)"
      ],
      "metadata": {
        "colab": {
          "base_uri": "https://localhost:8080/"
        },
        "id": "FlLMeG5AFBzD",
        "outputId": "a0766645-1c2a-4b28-fb94-bf0da2b742fb"
      },
      "execution_count": 21,
      "outputs": [
        {
          "output_type": "stream",
          "name": "stdout",
          "text": [
            "[23, 20, 17, 15, 12, 9, 7, 4]\n"
          ]
        }
      ]
    },
    {
      "cell_type": "code",
      "source": [
        "# hitung bilangan prima\n",
        "\n",
        "def is_prime(n):\n",
        "  if n < 2: # kalau 1 brarti dia ngak prima\n",
        "    return False\n",
        "  for i in range(2, int(n**0.5)+1): # mulai di bagi nilai akar n dengan 2 dst\n",
        "    if n % i == 0: # kalau n bagi i habis brarti dia genap dan ngak prima\n",
        "      return False\n",
        "\n",
        "  return True # selain 2 kondisi di atas dia true\n",
        "\n",
        "jumlah_prime = sum(1 for x in angka if is_prime(x))\n",
        "print(jumlah_prime)"
      ],
      "metadata": {
        "colab": {
          "base_uri": "https://localhost:8080/"
        },
        "id": "Lm85pBVhFaHo",
        "outputId": "81a7b6b8-dc1a-4813-81a7-a4fc1bb773c1"
      },
      "execution_count": 22,
      "outputs": [
        {
          "output_type": "stream",
          "name": "stdout",
          "text": [
            "3\n"
          ]
        }
      ]
    },
    {
      "cell_type": "code",
      "source": [
        "# gabung dua array +\n",
        "gabung = array1 + array2\n",
        "print(gabung)"
      ],
      "metadata": {
        "colab": {
          "base_uri": "https://localhost:8080/"
        },
        "id": "-xkCfRs7GI3L",
        "outputId": "f7fc072a-5f5c-467e-b3a6-5df9ac8e5f69"
      },
      "execution_count": 24,
      "outputs": [
        {
          "output_type": "stream",
          "name": "stdout",
          "text": [
            "[1, 3, 5, 2, 4, 6]\n"
          ]
        }
      ]
    },
    {
      "cell_type": "code",
      "source": [
        "def cek_greater(x, angka):\n",
        "  list_greater = []\n",
        "  for i in angka:\n",
        "    if i > x:\n",
        "      list_greater.append(i)\n",
        "  print(list_greater)\n",
        "\n",
        "cek_greater(10,angka)"
      ],
      "metadata": {
        "colab": {
          "base_uri": "https://localhost:8080/"
        },
        "id": "6I1hvPeQGoZw",
        "outputId": "bbb51e03-eebd-44c1-be93-045e0b4f35b8"
      },
      "execution_count": 25,
      "outputs": [
        {
          "output_type": "stream",
          "name": "stdout",
          "text": [
            "[23, 20, 17, 15, 12]\n"
          ]
        }
      ]
    },
    {
      "cell_type": "markdown",
      "source": [
        "## Latihan STRING"
      ],
      "metadata": {
        "id": "mjAvJY_oHom8"
      }
    },
    {
      "cell_type": "code",
      "source": [
        "teks = \"Belajar Python itu menyenangkan!\""
      ],
      "metadata": {
        "id": "2FRqjGIjHhIR"
      },
      "execution_count": 27,
      "outputs": []
    },
    {
      "cell_type": "code",
      "source": [
        "print(len(teks)) # panjang string"
      ],
      "metadata": {
        "colab": {
          "base_uri": "https://localhost:8080/"
        },
        "id": "yZPfSFGGHmt5",
        "outputId": "d988f665-c4b6-4c13-f70b-4992bd245ff3"
      },
      "execution_count": 28,
      "outputs": [
        {
          "output_type": "stream",
          "name": "stdout",
          "text": [
            "32\n"
          ]
        }
      ]
    },
    {
      "cell_type": "code",
      "source": [
        "# menghitung frekuensi dalam string\n",
        "from collections import Counter\n",
        "\n",
        "print(Counter(teks))"
      ],
      "metadata": {
        "colab": {
          "base_uri": "https://localhost:8080/"
        },
        "id": "JBR4EeqdLyCu",
        "outputId": "0938f473-4408-4c88-ba09-25f43da51731"
      },
      "execution_count": 29,
      "outputs": [
        {
          "output_type": "stream",
          "name": "stdout",
          "text": [
            "Counter({'n': 5, 'a': 4, 'e': 3, ' ': 3, 'y': 2, 't': 2, 'B': 1, 'l': 1, 'j': 1, 'r': 1, 'P': 1, 'h': 1, 'o': 1, 'i': 1, 'u': 1, 'm': 1, 'g': 1, 'k': 1, '!': 1})\n"
          ]
        }
      ]
    },
    {
      "cell_type": "code",
      "source": [
        "# kata terpanjang\n",
        "longest = max(teks.split(), key=len)\n",
        "longest"
      ],
      "metadata": {
        "colab": {
          "base_uri": "https://localhost:8080/",
          "height": 35
        },
        "id": "b2vas0XsL947",
        "outputId": "79232397-1d31-4db7-cf07-0ec14675b59a"
      },
      "execution_count": 30,
      "outputs": [
        {
          "output_type": "execute_result",
          "data": {
            "text/plain": [
              "'menyenangkan!'"
            ],
            "application/vnd.google.colaboratory.intrinsic+json": {
              "type": "string"
            }
          },
          "metadata": {},
          "execution_count": 30
        }
      ]
    },
    {
      "cell_type": "code",
      "source": [
        "# hapus karakter spesifik dari string\n",
        "hapus_a = teks.replace('a', '')\n",
        "hapus_a"
      ],
      "metadata": {
        "colab": {
          "base_uri": "https://localhost:8080/",
          "height": 35
        },
        "id": "AdmD5_5WMRte",
        "outputId": "9d70b5c7-8bf6-4c5a-d432-67ee6f3fb8f4"
      },
      "execution_count": 31,
      "outputs": [
        {
          "output_type": "execute_result",
          "data": {
            "text/plain": [
              "'Beljr Python itu menyenngkn!'"
            ],
            "application/vnd.google.colaboratory.intrinsic+json": {
              "type": "string"
            }
          },
          "metadata": {},
          "execution_count": 31
        }
      ]
    },
    {
      "cell_type": "code",
      "source": [
        "# mengubah string menjadi array kata SPLIT\n",
        "kata_array = teks.split()\n",
        "kata_array"
      ],
      "metadata": {
        "colab": {
          "base_uri": "https://localhost:8080/"
        },
        "id": "m8pRcPpCNeL0",
        "outputId": "3920fb28-7bad-49f6-e5dc-abf49f453c58"
      },
      "execution_count": 32,
      "outputs": [
        {
          "output_type": "execute_result",
          "data": {
            "text/plain": [
              "['Belajar', 'Python', 'itu', 'menyenangkan!']"
            ]
          },
          "metadata": {},
          "execution_count": 32
        }
      ]
    },
    {
      "cell_type": "code",
      "source": [
        "# membuat string dari depan dan belakang\n",
        "gabung = teks[0] + teks[-1]\n",
        "gabung\n",
        "\n",
        "# atau\n",
        "\n",
        "combine = kata_array[0] + kata_array[-1]\n",
        "combine"
      ],
      "metadata": {
        "colab": {
          "base_uri": "https://localhost:8080/",
          "height": 35
        },
        "id": "Zso1iMKmNk_T",
        "outputId": "bd48b15d-5bd3-482f-e471-ffcdf144894c"
      },
      "execution_count": 36,
      "outputs": [
        {
          "output_type": "execute_result",
          "data": {
            "text/plain": [
              "'Belajarmenyenangkan!'"
            ],
            "application/vnd.google.colaboratory.intrinsic+json": {
              "type": "string"
            }
          },
          "metadata": {},
          "execution_count": 36
        }
      ]
    },
    {
      "cell_type": "code",
      "source": [
        "# prime number filter"
      ],
      "metadata": {
        "id": "fIl21mXLOG-Z"
      },
      "execution_count": null,
      "outputs": []
    },
    {
      "cell_type": "code",
      "source": [
        "#  uniwe text sorting\n",
        "text = 'banana'\n",
        "unik = ''.join(sorted(set(text)))\n",
        "unik"
      ],
      "metadata": {
        "colab": {
          "base_uri": "https://localhost:8080/",
          "height": 35
        },
        "id": "kNpKUav0P1sC",
        "outputId": "2ef6c3ba-328d-4b9f-9d29-3111bc426d39"
      },
      "execution_count": 38,
      "outputs": [
        {
          "output_type": "execute_result",
          "data": {
            "text/plain": [
              "'abn'"
            ],
            "application/vnd.google.colaboratory.intrinsic+json": {
              "type": "string"
            }
          },
          "metadata": {},
          "execution_count": 38
        }
      ]
    },
    {
      "cell_type": "code",
      "source": [
        "# penjumlahan perkalian 10\n",
        "jumlah = sum(x for x in range(1,101) if x % 10 == 0)\n",
        "print(jumlah)"
      ],
      "metadata": {
        "colab": {
          "base_uri": "https://localhost:8080/"
        },
        "id": "TCtv-WSdP-xp",
        "outputId": "44fcda5a-0740-468c-a3f9-a90b09e62207"
      },
      "execution_count": 40,
      "outputs": [
        {
          "output_type": "stream",
          "name": "stdout",
          "text": [
            "550\n"
          ]
        }
      ]
    },
    {
      "cell_type": "code",
      "source": [
        "import re\n",
        "email = 'cicimaria@gmail.com'\n",
        "pattern = r'[^@]+@[^@]+\\.[^@]+'\n",
        "print(bool(re.match(pattern, email)))"
      ],
      "metadata": {
        "colab": {
          "base_uri": "https://localhost:8080/"
        },
        "id": "ozX3R3XhQPz9",
        "outputId": "76f14baa-0f69-49ad-d959-521e630a3618"
      },
      "execution_count": 41,
      "outputs": [
        {
          "output_type": "stream",
          "name": "stdout",
          "text": [
            "True\n"
          ]
        }
      ]
    },
    {
      "cell_type": "code",
      "source": [
        "# matrix sum\n",
        "matrix = [\n",
        "    [1, 2, 3],\n",
        "    [4, 5, 6],\n",
        "    [7, 8, 9]\n",
        "]\n",
        "diagonal_sum = sum(matrix[i][i] for i in range(len(matrix)))\n",
        "print(diagonal_sum)  # Output: 15"
      ],
      "metadata": {
        "colab": {
          "base_uri": "https://localhost:8080/"
        },
        "id": "mvWUByA0Qy95",
        "outputId": "34d9d79e-0185-4b1f-ab8c-b1c6e8369d44"
      },
      "execution_count": 42,
      "outputs": [
        {
          "output_type": "stream",
          "name": "stdout",
          "text": [
            "15\n"
          ]
        }
      ]
    }
  ]
}